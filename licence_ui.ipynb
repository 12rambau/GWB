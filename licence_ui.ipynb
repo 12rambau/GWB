{
 "cells": [
  {
   "cell_type": "code",
   "execution_count": null,
   "id": "southwest-claim",
   "metadata": {},
   "outputs": [],
   "source": [
    "from sepal_ui import sepalwidgets as sw"
   ]
  },
  {
   "cell_type": "code",
   "execution_count": null,
   "id": "scientific-parameter",
   "metadata": {},
   "outputs": [],
   "source": [
    "# hack of the about_tile to create a licence tile\n",
    "licence_tile = sw.TileAbout(\"utils/EULA.md\")\n",
    "licence_tile._metadata[\"mount_id\"] = \"licence_tile\""
   ]
  },
  {
   "cell_type": "code",
   "execution_count": null,
   "id": "talented-temperature",
   "metadata": {},
   "outputs": [],
   "source": [
    "licence_tile"
   ]
  },
  {
   "cell_type": "code",
   "execution_count": null,
   "id": "instant-maryland",
   "metadata": {},
   "outputs": [],
   "source": []
  }
 ],
 "metadata": {
  "kernelspec": {
   "display_name": "Python 3",
   "language": "python",
   "name": "python3"
  },
  "language_info": {
   "codemirror_mode": {
    "name": "ipython",
    "version": 3
   },
   "file_extension": ".py",
   "mimetype": "text/x-python",
   "name": "python",
   "nbconvert_exporter": "python",
   "pygments_lexer": "ipython3",
   "version": "3.8.10"
  }
 },
 "nbformat": 4,
 "nbformat_minor": 5
}
