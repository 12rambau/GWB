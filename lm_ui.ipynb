{
 "cells": [
  {
   "cell_type": "code",
   "execution_count": null,
   "id": "compact-maldives",
   "metadata": {},
   "outputs": [],
   "source": [
    "from sepal_ui import sepalwidgets as sw \n",
    "\n",
    "from component import io \n",
    "from component import tile\n",
    "from component.message import cm"
   ]
  },
  {
   "cell_type": "code",
   "execution_count": null,
   "id": "compatible-lindsay",
   "metadata": {},
   "outputs": [],
   "source": [
    "lm_io = io.LmIo()"
   ]
  },
  {
   "cell_type": "code",
   "execution_count": null,
   "id": "entitled-implementation",
   "metadata": {},
   "outputs": [],
   "source": [
    "lm_title = sw.Tile(lm_io.tile_id, cm.lm.title, [sw.Markdown(cm.lm.description)])"
   ]
  },
  {
   "cell_type": "code",
   "execution_count": null,
   "id": "liked-spokesman",
   "metadata": {},
   "outputs": [],
   "source": [
    "lm_convert = tile.ConvertByte(lm_io, 3)"
   ]
  },
  {
   "cell_type": "code",
   "execution_count": null,
   "id": "dietary-decline",
   "metadata": {},
   "outputs": [],
   "source": [
    "lm_process = tile.LmTile(lm_io)"
   ]
  },
  {
   "cell_type": "code",
   "execution_count": null,
   "id": "according-background",
   "metadata": {},
   "outputs": [],
   "source": [
    "lm_title"
   ]
  },
  {
   "cell_type": "code",
   "execution_count": null,
   "id": "alive-decimal",
   "metadata": {},
   "outputs": [],
   "source": [
    "#from pathlib import Path\n",
    "#\n",
    "#lm_io.bin_map = Path('/home/prambaud/gwb_results/lm/clc3class_bin_map.tif')\n",
    "#lm_io.kdim = 23\n",
    "#\n",
    "#lm_io.__dict__"
   ]
  },
  {
   "cell_type": "code",
   "execution_count": null,
   "id": "executive-conviction",
   "metadata": {},
   "outputs": [],
   "source": [
    "lm_convert"
   ]
  },
  {
   "cell_type": "code",
   "execution_count": null,
   "id": "gentle-highland",
   "metadata": {},
   "outputs": [],
   "source": [
    "lm_process"
   ]
  },
  {
   "cell_type": "code",
   "execution_count": null,
   "id": "placed-regulation",
   "metadata": {},
   "outputs": [],
   "source": []
  }
 ],
 "metadata": {
  "kernelspec": {
   "display_name": "Python 3",
   "language": "python",
   "name": "python3"
  },
  "language_info": {
   "codemirror_mode": {
    "name": "ipython",
    "version": 3
   },
   "file_extension": ".py",
   "mimetype": "text/x-python",
   "name": "python",
   "nbconvert_exporter": "python",
   "pygments_lexer": "ipython3",
   "version": "3.6.9"
  }
 },
 "nbformat": 4,
 "nbformat_minor": 5
}
