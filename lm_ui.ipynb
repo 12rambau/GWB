{
 "cells": [
  {
   "cell_type": "code",
   "execution_count": null,
   "id": "intermediate-margin",
   "metadata": {},
   "outputs": [],
   "source": [
    "from sepal_ui import sepalwidgets as sw\n",
    "\n",
    "from component import model\n",
    "from component import tile\n",
    "from component.message import cm"
   ]
  },
  {
   "cell_type": "code",
   "execution_count": null,
   "id": "invisible-supervision",
   "metadata": {},
   "outputs": [],
   "source": [
    "lm_model = model.LmModel()"
   ]
  },
  {
   "cell_type": "code",
   "execution_count": null,
   "id": "alike-spectacular",
   "metadata": {},
   "outputs": [],
   "source": [
    "lm_title = sw.Tile(lm_model.tile_id, cm.lm.title, [sw.Markdown(cm.lm.description)])"
   ]
  },
  {
   "cell_type": "code",
   "execution_count": null,
   "id": "built-immune",
   "metadata": {},
   "outputs": [],
   "source": [
    "lm_convert = tile.ConvertByte(lm_model, 3)"
   ]
  },
  {
   "cell_type": "code",
   "execution_count": null,
   "id": "short-mirror",
   "metadata": {},
   "outputs": [],
   "source": [
    "lm_process = tile.LmTile(lm_model)"
   ]
  },
  {
   "cell_type": "code",
   "execution_count": null,
   "id": "herbal-dollar",
   "metadata": {},
   "outputs": [],
   "source": [
    "lm_title"
   ]
  },
  {
   "cell_type": "code",
   "execution_count": null,
   "id": "buried-briefing",
   "metadata": {},
   "outputs": [],
   "source": [
    "# from component import parameter as cp\n",
    "#\n",
    "# lm_model.bin_map = cp.get_result_dir(\"lm\")/\"clc3class_bin_map.tif\"\n",
    "# lm_model.kdim = 23\n",
    "#\n",
    "# lm_model.__dict__"
   ]
  },
  {
   "cell_type": "code",
   "execution_count": null,
   "id": "responsible-alcohol",
   "metadata": {},
   "outputs": [],
   "source": [
    "lm_convert"
   ]
  },
  {
   "cell_type": "code",
   "execution_count": null,
   "id": "healthy-realtor",
   "metadata": {},
   "outputs": [],
   "source": [
    "lm_process"
   ]
  },
  {
   "cell_type": "code",
   "execution_count": null,
   "id": "accompanied-mineral",
   "metadata": {},
   "outputs": [],
   "source": []
  }
 ],
 "metadata": {
  "kernelspec": {
   "display_name": " (venv) GWB Analysis",
   "language": "python",
   "name": "venv-gwb"
  },
  "language_info": {
   "codemirror_mode": {
    "name": "ipython",
    "version": 3
   },
   "file_extension": ".py",
   "mimetype": "text/x-python",
   "name": "python",
   "nbconvert_exporter": "python",
   "pygments_lexer": "ipython3",
   "version": "3.8.10"
  }
 },
 "nbformat": 4,
 "nbformat_minor": 5
}
