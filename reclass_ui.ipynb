{
 "cells": [
  {
   "cell_type": "code",
   "execution_count": 1,
   "id": "933e0ff1-4715-4072-a7a8-f1503aab8e35",
   "metadata": {},
   "outputs": [
    {
     "data": {
      "application/vnd.jupyter.widget-view+json": {
       "model_id": "efc8740c77814eee839aa21099e97f98",
       "version_major": 2,
       "version_minor": 0
      },
      "text/plain": [
       "Styles()"
      ]
     },
     "metadata": {},
     "output_type": "display_data"
    },
    {
     "data": {
      "application/vnd.jupyter.widget-view+json": {
       "model_id": "caccda258d2e4727a81670d9d7d1e461",
       "version_major": 2,
       "version_minor": 0
      },
      "text/plain": [
       "ResizeTrigger()"
      ]
     },
     "metadata": {},
     "output_type": "display_data"
    }
   ],
   "source": [
    "from component.tile.reclassify import *\n",
    "from sepal_ui import sepalwidgets as sw "
   ]
  },
  {
   "cell_type": "code",
   "execution_count": 2,
   "id": "bcd53dad-f58e-427f-bdbd-449eb0122a45",
   "metadata": {},
   "outputs": [],
   "source": [
    "# reclassify_title = sw.Tile('reclassify', cm.reclassify.title, [sw.Markdown(cm.reclassify.description)])"
   ]
  },
  {
   "cell_type": "code",
   "execution_count": 3,
   "id": "32aff8f4-28b7-4ded-92c9-d6d9e2bf684a",
   "metadata": {},
   "outputs": [],
   "source": [
    "reclass_ui = ReclassifyUI()"
   ]
  },
  {
   "cell_type": "code",
   "execution_count": 5,
   "id": "6d9d0f15-d3d9-4369-8679-8aea63c2a282",
   "metadata": {},
   "outputs": [
    {
     "data": {
      "application/vnd.jupyter.widget-view+json": {
       "model_id": "4cd76129461d4498964b81ab968b6ea7",
       "version_major": 2,
       "version_minor": 0
      },
      "text/plain": [
       "ReclassifyUI(children=[Tabs(children=[Tabs(children=[Tab(children=['Reclassify']), Tab(children=['Customize cl…"
      ]
     },
     "metadata": {},
     "output_type": "display_data"
    }
   ],
   "source": [
    "reclass_ui"
   ]
  }
 ],
 "metadata": {
  "kernelspec": {
   "display_name": "Python 3",
   "language": "python",
   "name": "python3"
  },
  "language_info": {
   "codemirror_mode": {
    "name": "ipython",
    "version": 3
   },
   "file_extension": ".py",
   "mimetype": "text/x-python",
   "name": "python",
   "nbconvert_exporter": "python",
   "pygments_lexer": "ipython3",
   "version": "3.6.9"
  }
 },
 "nbformat": 4,
 "nbformat_minor": 5
}
