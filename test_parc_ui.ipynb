{
 "cells": [
  {
   "cell_type": "code",
   "execution_count": null,
   "id": "neutral-outdoors",
   "metadata": {},
   "outputs": [],
   "source": [
    "from sepal_ui import sepalwidgets as sw\n",
    "\n",
    "from component import model\n",
    "from component import tile\n",
    "from component.message import cm"
   ]
  },
  {
   "cell_type": "code",
   "execution_count": null,
   "id": "reported-filter",
   "metadata": {},
   "outputs": [],
   "source": [
    "parc_model = model.ParcModel()"
   ]
  },
  {
   "cell_type": "code",
   "execution_count": null,
   "id": "champion-purple",
   "metadata": {},
   "outputs": [],
   "source": [
    "parc_title = sw.Tile(\n",
    "    parc_model.tile_id, cm.parc.title, [sw.Markdown(cm.parc.description)]\n",
    ")"
   ]
  },
  {
   "cell_type": "code",
   "execution_count": null,
   "id": "loving-camping",
   "metadata": {},
   "outputs": [],
   "source": [
    "parc_convert = tile.ConvertByte(parc_model, 0)"
   ]
  },
  {
   "cell_type": "code",
   "execution_count": null,
   "id": "supposed-security",
   "metadata": {},
   "outputs": [],
   "source": [
    "parc_process = tile.ParcTile(parc_model)"
   ]
  },
  {
   "cell_type": "code",
   "execution_count": null,
   "id": "young-permission",
   "metadata": {},
   "outputs": [],
   "source": [
    "parc_title"
   ]
  },
  {
   "cell_type": "code",
   "execution_count": null,
   "id": "expected-brass",
   "metadata": {},
   "outputs": [],
   "source": [
    "# from component import parameter as cp\n",
    "#\n",
    "# parc_model.bin_map = cp.get_result_dir(\"parc\")/\"clc3class_bin_map.tif\"\n",
    "# parc_model.connectivity = 8\n",
    "#\n",
    "# parc_model.__dict__"
   ]
  },
  {
   "cell_type": "code",
   "execution_count": null,
   "id": "sized-employment",
   "metadata": {},
   "outputs": [],
   "source": [
    "parc_convert"
   ]
  },
  {
   "cell_type": "code",
   "execution_count": null,
   "id": "renewable-grace",
   "metadata": {},
   "outputs": [],
   "source": [
    "parc_process"
   ]
  }
 ],
 "metadata": {
  "kernelspec": {
   "display_name": " (venv) GWB Analysis",
   "language": "python",
   "name": "venv-gwb"
  },
  "language_info": {
   "codemirror_mode": {
    "name": "ipython",
    "version": 3
   },
   "file_extension": ".py",
   "mimetype": "text/x-python",
   "name": "python",
   "nbconvert_exporter": "python",
   "pygments_lexer": "ipython3",
   "version": "3.8.10"
  }
 },
 "nbformat": 4,
 "nbformat_minor": 5
}
