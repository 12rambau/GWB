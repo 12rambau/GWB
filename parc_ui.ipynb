{
 "cells": [
  {
   "cell_type": "code",
   "execution_count": null,
   "id": "neutral-outdoors",
   "metadata": {},
   "outputs": [],
   "source": [
    "from sepal_ui import sepalwidgets as sw \n",
    "\n",
    "from component import model \n",
    "from component import tile\n",
    "from component.message import cm"
   ]
  },
  {
   "cell_type": "code",
   "execution_count": null,
   "id": "reported-filter",
   "metadata": {},
   "outputs": [],
   "source": [
    "parc_model = model.ParcModel()"
   ]
  },
  {
   "cell_type": "code",
   "execution_count": null,
   "id": "champion-purple",
   "metadata": {},
   "outputs": [],
   "source": [
    "parc_title = sw.Tile(parc_model.tile_id, cm.parc.title, [sw.Markdown(cm.parc.description)])"
   ]
  },
  {
   "cell_type": "code",
   "execution_count": null,
   "id": "loving-camping",
   "metadata": {},
   "outputs": [],
   "source": [
    "parc_convert = tile.ConvertByte(parc_model, 0)"
   ]
  },
  {
   "cell_type": "code",
   "execution_count": null,
   "id": "supposed-security",
   "metadata": {},
   "outputs": [],
   "source": [
    "parc_process = tile.ParcTile(parc_model)"
   ]
  },
  {
   "cell_type": "code",
   "execution_count": null,
   "id": "young-permission",
   "metadata": {},
   "outputs": [],
   "source": [
    "parc_title"
   ]
  },
  {
   "cell_type": "code",
   "execution_count": null,
   "id": "expected-brass",
   "metadata": {},
   "outputs": [],
   "source": [
    "#from pathlib import Path\n",
    "#\n",
    "#parc_io.bin_map = Path('/home/prambaud/gwb_results/parc/clc3class_bin_map.tif')\n",
    "#parc_io.connectivity = 8\n",
    "#\n",
    "#parc_io.__dict__"
   ]
  },
  {
   "cell_type": "code",
   "execution_count": null,
   "id": "sized-employment",
   "metadata": {},
   "outputs": [],
   "source": [
    "parc_convert"
   ]
  },
  {
   "cell_type": "code",
   "execution_count": null,
   "id": "renewable-grace",
   "metadata": {},
   "outputs": [],
   "source": [
    "parc_process"
   ]
  },
  {
   "cell_type": "code",
   "execution_count": null,
   "id": "pharmaceutical-bracket",
   "metadata": {},
   "outputs": [],
   "source": [
    "parc_model.__dict__"
   ]
  },
  {
   "cell_type": "code",
   "execution_count": null,
   "id": "intensive-singer",
   "metadata": {},
   "outputs": [],
   "source": []
  }
 ],
 "metadata": {
  "kernelspec": {
   "display_name": "Python 3",
   "language": "python",
   "name": "python3"
  },
  "language_info": {
   "codemirror_mode": {
    "name": "ipython",
    "version": 3
   },
   "file_extension": ".py",
   "mimetype": "text/x-python",
   "name": "python",
   "nbconvert_exporter": "python",
   "pygments_lexer": "ipython3",
   "version": "3.6.9"
  }
 },
 "nbformat": 4,
 "nbformat_minor": 5
}
