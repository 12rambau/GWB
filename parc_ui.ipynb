{
 "cells": [
  {
   "cell_type": "code",
   "execution_count": null,
   "id": "serious-cartoon",
   "metadata": {},
   "outputs": [],
   "source": [
    "from sepal_ui import sepalwidgets as sw \n",
    "\n",
    "from component import io \n",
    "from component import tile\n",
    "from component.message import cm"
   ]
  },
  {
   "cell_type": "code",
   "execution_count": null,
   "id": "minus-queensland",
   "metadata": {},
   "outputs": [],
   "source": [
    "parc_io = io.ParcIo()"
   ]
  },
  {
   "cell_type": "code",
   "execution_count": null,
   "id": "residential-mongolia",
   "metadata": {},
   "outputs": [],
   "source": [
    "parc_title = sw.Tile(parc_io.tile_id, cm.parc.title, [sw.Markdown(cm.parc.description)])"
   ]
  },
  {
   "cell_type": "code",
   "execution_count": null,
   "id": "loose-controversy",
   "metadata": {},
   "outputs": [],
   "source": [
    "parc_convert = tile.ZeroBytes(parc_io)"
   ]
  },
  {
   "cell_type": "code",
   "execution_count": null,
   "id": "naval-sculpture",
   "metadata": {},
   "outputs": [],
   "source": [
    "parc_process = tile.ParcTile(parc_io)"
   ]
  },
  {
   "cell_type": "code",
   "execution_count": null,
   "id": "innocent-rochester",
   "metadata": {},
   "outputs": [],
   "source": [
    "parc_title"
   ]
  },
  {
   "cell_type": "code",
   "execution_count": null,
   "id": "thorough-malawi",
   "metadata": {},
   "outputs": [],
   "source": [
    "#from pathlib import Path\n",
    "#\n",
    "#parc_io.bin_map = Path('/home/prambaud/gwb_results/parc/clc3class_bin_map.tif')\n",
    "#parc_io.connectivity = 8\n",
    "#\n",
    "#parc_io.__dict__"
   ]
  },
  {
   "cell_type": "code",
   "execution_count": null,
   "id": "maritime-fancy",
   "metadata": {},
   "outputs": [],
   "source": [
    "parc_convert"
   ]
  },
  {
   "cell_type": "code",
   "execution_count": null,
   "id": "thick-spelling",
   "metadata": {},
   "outputs": [],
   "source": [
    "parc_process"
   ]
  },
  {
   "cell_type": "code",
   "execution_count": null,
   "id": "graphic-torture",
   "metadata": {},
   "outputs": [],
   "source": [
    "parc_io.__dict__"
   ]
  },
  {
   "cell_type": "code",
   "execution_count": null,
   "id": "german-maple",
   "metadata": {},
   "outputs": [],
   "source": []
  }
 ],
 "metadata": {
  "kernelspec": {
   "display_name": "Python 3",
   "language": "python",
   "name": "python3"
  },
  "language_info": {
   "codemirror_mode": {
    "name": "ipython",
    "version": 3
   },
   "file_extension": ".py",
   "mimetype": "text/x-python",
   "name": "python",
   "nbconvert_exporter": "python",
   "pygments_lexer": "ipython3",
   "version": "3.6.9"
  }
 },
 "nbformat": 4,
 "nbformat_minor": 5
}
