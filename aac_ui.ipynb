{
 "cells": [
  {
   "cell_type": "code",
   "execution_count": 1,
   "id": "pressing-candle",
   "metadata": {},
   "outputs": [
    {
     "data": {
      "application/vnd.jupyter.widget-view+json": {
       "model_id": "5a6c7a18a8c044cbb40de2eba711b468",
       "version_major": 2,
       "version_minor": 0
      },
      "text/plain": [
       "HTML(value='\\n<style>\\n.leaflet-pane {\\n    z-index : 2 !important;\\n}\\n.leaflet-top, .leaflet-bottom {\\n    z…"
      ]
     },
     "metadata": {},
     "output_type": "display_data"
    },
    {
     "data": {
      "application/vnd.jupyter.widget-view+json": {
       "model_id": "24df02e3e0cb417a8ff4dd8399569881",
       "version_major": 2,
       "version_minor": 0
      },
      "text/plain": [
       "ResizeTrigger()"
      ]
     },
     "metadata": {},
     "output_type": "display_data"
    }
   ],
   "source": [
    "from sepal_ui import sepalwidgets as sw \n",
    "\n",
    "from component import io \n",
    "from component import tile\n",
    "from component.message import cm"
   ]
  },
  {
   "cell_type": "code",
   "execution_count": 2,
   "id": "shared-exhaust",
   "metadata": {},
   "outputs": [],
   "source": [
    "acc_io = io.AccIo()"
   ]
  },
  {
   "cell_type": "code",
   "execution_count": 3,
   "id": "amino-consensus",
   "metadata": {},
   "outputs": [],
   "source": [
    "acc_title = sw.Tile(acc_io.tile_id, cm.acc.title, [sw.Markdown(cm.acc.description)])"
   ]
  },
  {
   "cell_type": "code",
   "execution_count": 4,
   "id": "light-massage",
   "metadata": {},
   "outputs": [],
   "source": [
    "acc_convert = tile.FourBytes(acc_io)"
   ]
  },
  {
   "cell_type": "code",
   "execution_count": 5,
   "id": "rolled-choice",
   "metadata": {},
   "outputs": [],
   "source": [
    "acc_process = tile.accc_process(acc_io)"
   ]
  },
  {
   "cell_type": "code",
   "execution_count": 6,
   "id": "supported-cameroon",
   "metadata": {},
   "outputs": [
    {
     "data": {
      "application/vnd.jupyter.widget-view+json": {
       "model_id": "f80d49028c714f12a3e3f46f3ce68a4a",
       "version_major": 2,
       "version_minor": 0
      },
      "text/plain": [
       "Tile(align_center=True, children=[Card(children=[Html(children=['Accounting of image objects and area classes'…"
      ]
     },
     "metadata": {},
     "output_type": "display_data"
    }
   ],
   "source": [
    "acc_title"
   ]
  },
  {
   "cell_type": "code",
   "execution_count": 7,
   "id": "dimensional-appendix",
   "metadata": {},
   "outputs": [],
   "source": [
    "from pathlib import Path\n",
    "\n",
    "acc_io.bin_map = Path('/home/prambaud/gwb_results/acc/example_bin_map.tif')\n",
    "acc_io.connectivity = 8\n",
    "acc_io.res =  25\n",
    "acc_io.thresholds = '[200, 2000, 20000, 100000, 200000]'\n",
    "acc_io.option = 'default'\n",
    "#acc_io.__dict__"
   ]
  },
  {
   "cell_type": "code",
   "execution_count": 8,
   "id": "colored-argentina",
   "metadata": {},
   "outputs": [
    {
     "data": {
      "application/vnd.jupyter.widget-view+json": {
       "model_id": "e931d8bedde243c5bad818be349f6d20",
       "version_major": 2,
       "version_minor": 0
      },
      "text/plain": [
       "FourBytes(align_center=True, children=[Card(children=[Html(children=['Select map classes'], tag='h2'), Flex(ch…"
      ]
     },
     "metadata": {},
     "output_type": "display_data"
    }
   ],
   "source": [
    "acc_convert"
   ]
  },
  {
   "cell_type": "code",
   "execution_count": 9,
   "id": "pacific-wrong",
   "metadata": {},
   "outputs": [
    {
     "data": {
      "application/vnd.jupyter.widget-view+json": {
       "model_id": "517e0aab9a68434d885202b1ebb12685",
       "version_major": 2,
       "version_minor": 0
      },
      "text/plain": [
       "accc_process(align_center=True, children=[Card(children=[Html(children=['Run Process'], tag='h2'), Flex(childr…"
      ]
     },
     "metadata": {},
     "output_type": "display_data"
    }
   ],
   "source": [
    "acc_process"
   ]
  },
  {
   "cell_type": "code",
   "execution_count": 13,
   "id": "completed-brunei",
   "metadata": {},
   "outputs": [
    {
     "data": {
      "text/plain": [
       "{'file': '/home/prambaud/input/example.tif',\n",
       " 'background': [1],\n",
       " 'foreground': [2],\n",
       " 'spe_background_1': [],\n",
       " 'spe_background_2': [],\n",
       " 'connectivity': 8,\n",
       " 'res': '25',\n",
       " 'thresholds': '[100, 500, 2000]',\n",
       " 'option': 'default',\n",
       " 'tile_id': 'acc_tile',\n",
       " 'process': 'acc',\n",
       " 'byte_list': [[1], [2], [], []],\n",
       " 'params_list': [],\n",
       " 'bin_map': PosixPath('/home/prambaud/gwb_results/acc/example_bin_map.tif'),\n",
       " 'options': 'detailed'}"
      ]
     },
     "execution_count": 13,
     "metadata": {},
     "output_type": "execute_result"
    }
   ],
   "source": [
    "acc_io.__dict__"
   ]
  },
  {
   "cell_type": "code",
   "execution_count": 11,
   "id": "wired-columbus",
   "metadata": {},
   "outputs": [
    {
     "data": {
      "text/plain": [
       "<component.io.acc_io.AccIo at 0x7f54f8585e48>"
      ]
     },
     "execution_count": 11,
     "metadata": {},
     "output_type": "execute_result"
    }
   ],
   "source": [
    "acc_io"
   ]
  }
 ],
 "metadata": {
  "kernelspec": {
   "display_name": "Python 3",
   "language": "python",
   "name": "python3"
  },
  "language_info": {
   "codemirror_mode": {
    "name": "ipython",
    "version": 3
   },
   "file_extension": ".py",
   "mimetype": "text/x-python",
   "name": "python",
   "nbconvert_exporter": "python",
   "pygments_lexer": "ipython3",
   "version": "3.6.9"
  }
 },
 "nbformat": 4,
 "nbformat_minor": 5
}
