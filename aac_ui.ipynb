{
 "cells": [
  {
   "cell_type": "code",
   "execution_count": null,
   "id": "creative-norman",
   "metadata": {},
   "outputs": [],
   "source": [
    "from sepal_ui import sepalwidgets as sw \n",
    "\n",
    "from component import io \n",
    "from component import tile\n",
    "from component.message import cm"
   ]
  },
  {
   "cell_type": "code",
   "execution_count": null,
   "id": "photographic-nepal",
   "metadata": {},
   "outputs": [],
   "source": [
    "acc_io = io.AccIo()"
   ]
  },
  {
   "cell_type": "code",
   "execution_count": null,
   "id": "numeric-render",
   "metadata": {},
   "outputs": [],
   "source": [
    "acc_title = sw.Tile(acc_io.tile_id, cm.acc.title, [sw.Markdown(cm.acc.description)])"
   ]
  },
  {
   "cell_type": "code",
   "execution_count": null,
   "id": "greek-green",
   "metadata": {},
   "outputs": [],
   "source": [
    "acc_convert = tile.FourBytes(acc_io)"
   ]
  },
  {
   "cell_type": "code",
   "execution_count": null,
   "id": "forbidden-blast",
   "metadata": {},
   "outputs": [],
   "source": [
    "acc_process = tile.accc_process(acc_io)"
   ]
  },
  {
   "cell_type": "code",
   "execution_count": null,
   "id": "insured-allergy",
   "metadata": {},
   "outputs": [],
   "source": [
    "acc_title"
   ]
  },
  {
   "cell_type": "code",
   "execution_count": null,
   "id": "destroyed-tomorrow",
   "metadata": {},
   "outputs": [],
   "source": [
    "acc_convert"
   ]
  },
  {
   "cell_type": "code",
   "execution_count": null,
   "id": "appointed-selection",
   "metadata": {},
   "outputs": [],
   "source": [
    "acc_process"
   ]
  },
  {
   "cell_type": "code",
   "execution_count": null,
   "id": "coral-permission",
   "metadata": {},
   "outputs": [],
   "source": [
    "acc_io.__dict__"
   ]
  },
  {
   "cell_type": "code",
   "execution_count": null,
   "id": "behind-hawaiian",
   "metadata": {},
   "outputs": [],
   "source": []
  }
 ],
 "metadata": {
  "kernelspec": {
   "display_name": "Python 3",
   "language": "python",
   "name": "python3"
  },
  "language_info": {
   "codemirror_mode": {
    "name": "ipython",
    "version": 3
   },
   "file_extension": ".py",
   "mimetype": "text/x-python",
   "name": "python",
   "nbconvert_exporter": "python",
   "pygments_lexer": "ipython3",
   "version": "3.6.9"
  }
 },
 "nbformat": 4,
 "nbformat_minor": 5
}
