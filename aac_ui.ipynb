{
 "cells": [
  {
   "cell_type": "code",
   "execution_count": 1,
   "id": "engaged-haven",
   "metadata": {},
   "outputs": [
    {
     "data": {
      "application/vnd.jupyter.widget-view+json": {
       "model_id": "1bd595e1ad9245288f7f05082b8d8e48",
       "version_major": 2,
       "version_minor": 0
      },
      "text/plain": [
       "HTML(value='\\n<style>\\n.leaflet-pane {\\n    z-index : 2 !important;\\n}\\n.leaflet-top, .leaflet-bottom {\\n    z…"
      ]
     },
     "metadata": {},
     "output_type": "display_data"
    },
    {
     "data": {
      "application/vnd.jupyter.widget-view+json": {
       "model_id": "78d0cde32a6f4b9eb974280d73493c12",
       "version_major": 2,
       "version_minor": 0
      },
      "text/plain": [
       "ResizeTrigger()"
      ]
     },
     "metadata": {},
     "output_type": "display_data"
    }
   ],
   "source": [
    "from sepal_ui import sepalwidgets as sw \n",
    "\n",
    "from component import io \n",
    "from component import tile\n",
    "from component.message import cm"
   ]
  },
  {
   "cell_type": "code",
   "execution_count": 2,
   "id": "homeless-bathroom",
   "metadata": {},
   "outputs": [],
   "source": [
    "acc_io = io.AccIo()"
   ]
  },
  {
   "cell_type": "code",
   "execution_count": 3,
   "id": "handy-notebook",
   "metadata": {},
   "outputs": [],
   "source": [
    "acc_title = sw.Tile(acc_io.tile_id, cm.acc.title, [sw.Markdown(cm.acc.description)])"
   ]
  },
  {
   "cell_type": "code",
   "execution_count": 4,
   "id": "ceramic-trading",
   "metadata": {},
   "outputs": [],
   "source": [
    "acc_convert = tile.FourBytes(acc_io)"
   ]
  },
  {
   "cell_type": "code",
   "execution_count": 5,
   "id": "convenient-substance",
   "metadata": {},
   "outputs": [],
   "source": [
    "acc_process = tile.accc_process(acc_io)"
   ]
  },
  {
   "cell_type": "code",
   "execution_count": 6,
   "id": "flexible-vatican",
   "metadata": {},
   "outputs": [
    {
     "data": {
      "application/vnd.jupyter.widget-view+json": {
       "model_id": "e0d83b8bcc6b414e8ca542b528f44345",
       "version_major": 2,
       "version_minor": 0
      },
      "text/plain": [
       "Tile(align_center=True, children=[Card(children=[Html(children=['Accounting of image objects and area classes'…"
      ]
     },
     "metadata": {},
     "output_type": "display_data"
    }
   ],
   "source": [
    "acc_title"
   ]
  },
  {
   "cell_type": "code",
   "execution_count": 7,
   "id": "convenient-member",
   "metadata": {},
   "outputs": [
    {
     "data": {
      "text/plain": [
       "{'file': None,\n",
       " 'background': [],\n",
       " 'foreground': [],\n",
       " 'spe_background_1': [],\n",
       " 'spe_background_2': [],\n",
       " 'connectivity': 8,\n",
       " 'res': 25,\n",
       " 'thresholds': '[200, 2000, 20000, 100000, 200000]',\n",
       " 'option': 'default',\n",
       " 'tile_id': 'acc_tile',\n",
       " 'process': 'acc',\n",
       " 'byte_list': [],\n",
       " 'params_list': [],\n",
       " 'bin_map': PosixPath('/home/prambaud/gwb_results/acc/example_bin_map.tif')}"
      ]
     },
     "execution_count": 7,
     "metadata": {},
     "output_type": "execute_result"
    }
   ],
   "source": [
    "from pathlib import Path\n",
    "\n",
    "acc_io.bin_map = Path('/home/prambaud/gwb_results/acc/example_bin_map.tif')\n",
    "acc_io.connectivity = 8\n",
    "acc_io.res =  25\n",
    "acc_io.thresholds = '[200, 2000, 20000, 100000, 200000]'\n",
    "acc_io.option = 'default'\n",
    "acc_io.__dict__"
   ]
  },
  {
   "cell_type": "code",
   "execution_count": 8,
   "id": "specific-running",
   "metadata": {},
   "outputs": [
    {
     "data": {
      "application/vnd.jupyter.widget-view+json": {
       "model_id": "532eb88b665e48d2b0277e8895c23b64",
       "version_major": 2,
       "version_minor": 0
      },
      "text/plain": [
       "FourBytes(align_center=True, children=[Card(children=[Html(children=['Select map classes'], tag='h2'), Flex(ch…"
      ]
     },
     "metadata": {},
     "output_type": "display_data"
    }
   ],
   "source": [
    "acc_convert"
   ]
  },
  {
   "cell_type": "code",
   "execution_count": 9,
   "id": "broke-walter",
   "metadata": {},
   "outputs": [
    {
     "data": {
      "application/vnd.jupyter.widget-view+json": {
       "model_id": "59887eb167004502a80de77ffd353440",
       "version_major": 2,
       "version_minor": 0
      },
      "text/plain": [
       "accc_process(align_center=True, children=[Card(children=[Html(children=['Run Process'], tag='h2'), Flex(childr…"
      ]
     },
     "metadata": {},
     "output_type": "display_data"
    }
   ],
   "source": [
    "acc_process"
   ]
  },
  {
   "cell_type": "code",
   "execution_count": 10,
   "id": "bridal-reward",
   "metadata": {},
   "outputs": [
    {
     "data": {
      "text/plain": [
       "{'file': None,\n",
       " 'background': [],\n",
       " 'foreground': [],\n",
       " 'spe_background_1': [],\n",
       " 'spe_background_2': [],\n",
       " 'connectivity': 8,\n",
       " 'res': 25,\n",
       " 'thresholds': '[200, 2000, 20000, 100000, 200000]',\n",
       " 'option': 'default',\n",
       " 'tile_id': 'acc_tile',\n",
       " 'process': 'acc',\n",
       " 'byte_list': [],\n",
       " 'params_list': [],\n",
       " 'bin_map': PosixPath('/home/prambaud/gwb_results/acc/example_bin_map.tif')}"
      ]
     },
     "execution_count": 10,
     "metadata": {},
     "output_type": "execute_result"
    }
   ],
   "source": [
    "acc_io.__dict__"
   ]
  },
  {
   "cell_type": "code",
   "execution_count": 11,
   "id": "brown-perspective",
   "metadata": {},
   "outputs": [
    {
     "data": {
      "text/plain": [
       "<component.io.acc_io.AccIo at 0x7f710c156be0>"
      ]
     },
     "execution_count": 11,
     "metadata": {},
     "output_type": "execute_result"
    }
   ],
   "source": [
    "acc_io"
   ]
  }
 ],
 "metadata": {
  "kernelspec": {
   "display_name": "Python 3",
   "language": "python",
   "name": "python3"
  },
  "language_info": {
   "codemirror_mode": {
    "name": "ipython",
    "version": 3
   },
   "file_extension": ".py",
   "mimetype": "text/x-python",
   "name": "python",
   "nbconvert_exporter": "python",
   "pygments_lexer": "ipython3",
   "version": "3.6.9"
  }
 },
 "nbformat": 4,
 "nbformat_minor": 5
}
