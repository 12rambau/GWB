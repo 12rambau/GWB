{
 "cells": [
  {
   "cell_type": "code",
   "execution_count": 1,
   "id": "visible-reservoir",
   "metadata": {},
   "outputs": [
    {
     "data": {
      "application/vnd.jupyter.widget-view+json": {
       "model_id": "aa616e842a784d668a65ce125836a7dd",
       "version_major": 2,
       "version_minor": 0
      },
      "text/plain": [
       "HTML(value='\\n<style>\\n.leaflet-pane {\\n    z-index : 2 !important;\\n}\\n.leaflet-top, .leaflet-bottom {\\n    z…"
      ]
     },
     "metadata": {},
     "output_type": "display_data"
    },
    {
     "data": {
      "application/vnd.jupyter.widget-view+json": {
       "model_id": "ed0b9db4299b49d6a957674e5e345e0b",
       "version_major": 2,
       "version_minor": 0
      },
      "text/plain": [
       "ResizeTrigger()"
      ]
     },
     "metadata": {},
     "output_type": "display_data"
    }
   ],
   "source": [
    "from sepal_ui import sepalwidgets as sw \n",
    "\n",
    "from component import io \n",
    "from component import tile\n",
    "from component.message import cm"
   ]
  },
  {
   "cell_type": "code",
   "execution_count": 2,
   "id": "current-chile",
   "metadata": {},
   "outputs": [],
   "source": [
    "acc_io = io.AccIo()"
   ]
  },
  {
   "cell_type": "code",
   "execution_count": 3,
   "id": "peaceful-flight",
   "metadata": {},
   "outputs": [],
   "source": [
    "acc_title = sw.Tile(acc_io.tile_id, cm.acc.title, [sw.Markdown(cm.acc.description)])"
   ]
  },
  {
   "cell_type": "code",
   "execution_count": 4,
   "id": "prostate-agenda",
   "metadata": {},
   "outputs": [],
   "source": [
    "acc_convert = tile.FourBytes(acc_io)"
   ]
  },
  {
   "cell_type": "code",
   "execution_count": 5,
   "id": "included-provision",
   "metadata": {},
   "outputs": [
    {
     "data": {
      "application/vnd.jupyter.widget-view+json": {
       "model_id": "c794e1727d434054a1f0fb563685019b",
       "version_major": 2,
       "version_minor": 0
      },
      "text/plain": [
       "Tile(align_center=True, children=[Card(children=[Html(children=['Accounting of image objects and area classes'…"
      ]
     },
     "metadata": {},
     "output_type": "display_data"
    }
   ],
   "source": [
    "acc_title"
   ]
  },
  {
   "cell_type": "code",
   "execution_count": 6,
   "id": "meaningful-bench",
   "metadata": {},
   "outputs": [
    {
     "data": {
      "application/vnd.jupyter.widget-view+json": {
       "model_id": "53945e8ca3e54fdfb191e77ca369dba2",
       "version_major": 2,
       "version_minor": 0
      },
      "text/plain": [
       "FourBytes(align_center=True, children=[Card(children=[Html(children=['Select map classes'], tag='h2'), Flex(ch…"
      ]
     },
     "metadata": {},
     "output_type": "display_data"
    }
   ],
   "source": [
    "acc_convert"
   ]
  }
 ],
 "metadata": {
  "kernelspec": {
   "display_name": "Python 3",
   "language": "python",
   "name": "python3"
  },
  "language_info": {
   "codemirror_mode": {
    "name": "ipython",
    "version": 3
   },
   "file_extension": ".py",
   "mimetype": "text/x-python",
   "name": "python",
   "nbconvert_exporter": "python",
   "pygments_lexer": "ipython3",
   "version": "3.6.9"
  }
 },
 "nbformat": 4,
 "nbformat_minor": 5
}
