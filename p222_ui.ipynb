{
 "cells": [
  {
   "cell_type": "code",
   "execution_count": null,
   "id": "spare-niger",
   "metadata": {},
   "outputs": [],
   "source": [
    "from sepal_ui import sepalwidgets as sw \n",
    "\n",
    "from component import io \n",
    "from component import tile\n",
    "from component.message import cm"
   ]
  },
  {
   "cell_type": "code",
   "execution_count": null,
   "id": "regional-behavior",
   "metadata": {},
   "outputs": [],
   "source": [
    "p222_io = io.P222Io()"
   ]
  },
  {
   "cell_type": "code",
   "execution_count": null,
   "id": "light-elite",
   "metadata": {},
   "outputs": [],
   "source": [
    "p222_title = sw.Tile(p222_io.tile_id, cm.p222.title, [sw.Markdown(cm.p222.description)])"
   ]
  },
  {
   "cell_type": "code",
   "execution_count": null,
   "id": "successful-impact",
   "metadata": {},
   "outputs": [],
   "source": [
    "p222_convert = tile.ConvertByte(p222_io, 2)"
   ]
  },
  {
   "cell_type": "code",
   "execution_count": null,
   "id": "russian-division",
   "metadata": {},
   "outputs": [],
   "source": [
    "p222_process = tile.P222Tile(p222_io)"
   ]
  },
  {
   "cell_type": "code",
   "execution_count": null,
   "id": "unavailable-intelligence",
   "metadata": {},
   "outputs": [],
   "source": [
    "p222_title"
   ]
  },
  {
   "cell_type": "code",
   "execution_count": null,
   "id": "killing-trouble",
   "metadata": {},
   "outputs": [],
   "source": [
    "#from pathlib import Path\n",
    "#\n",
    "#p222_io.bin_map = Path('/home/prambaud/gwb_results/p222/example_bin_map.tif')\n",
    "#p222_io.algorithm = 1\n",
    "#p222_io.kdim =  27\n",
    "#p222_io.prescision = 1\n",
    "#\n",
    "#p222_io.__dict__"
   ]
  },
  {
   "cell_type": "code",
   "execution_count": null,
   "id": "approximate-relief",
   "metadata": {},
   "outputs": [],
   "source": [
    "p222_convert"
   ]
  },
  {
   "cell_type": "code",
   "execution_count": null,
   "id": "above-presentation",
   "metadata": {},
   "outputs": [],
   "source": [
    "p222_process"
   ]
  },
  {
   "cell_type": "code",
   "execution_count": null,
   "id": "former-elimination",
   "metadata": {},
   "outputs": [],
   "source": [
    "p222_io.__dict__"
   ]
  },
  {
   "cell_type": "code",
   "execution_count": null,
   "id": "victorian-flush",
   "metadata": {},
   "outputs": [],
   "source": []
  }
 ],
 "metadata": {
  "kernelspec": {
   "display_name": "Python 3",
   "language": "python",
   "name": "python3"
  },
  "language_info": {
   "codemirror_mode": {
    "name": "ipython",
    "version": 3
   },
   "file_extension": ".py",
   "mimetype": "text/x-python",
   "name": "python",
   "nbconvert_exporter": "python",
   "pygments_lexer": "ipython3",
   "version": "3.6.9"
  }
 },
 "nbformat": 4,
 "nbformat_minor": 5
}
