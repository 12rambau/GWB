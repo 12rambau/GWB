{
 "cells": [
  {
   "cell_type": "code",
   "execution_count": null,
   "id": "surgical-giving",
   "metadata": {},
   "outputs": [],
   "source": [
    "from sepal_ui import sepalwidgets as sw\n",
    "\n",
    "from component import model\n",
    "from component import tile\n",
    "from component.message import cm"
   ]
  },
  {
   "cell_type": "code",
   "execution_count": null,
   "id": "banned-planning",
   "metadata": {},
   "outputs": [],
   "source": [
    "p223_model = model.P223Model()"
   ]
  },
  {
   "cell_type": "code",
   "execution_count": null,
   "id": "injured-ready",
   "metadata": {},
   "outputs": [],
   "source": [
    "p223_title = sw.Tile(\n",
    "    p223_model.tile_id, cm.p223.title, [sw.Markdown(cm.p223.description)]\n",
    ")"
   ]
  },
  {
   "cell_type": "code",
   "execution_count": null,
   "id": "incorporate-corrections",
   "metadata": {},
   "outputs": [],
   "source": [
    "p223_convert = tile.ConvertByte(p223_model, 5)"
   ]
  },
  {
   "cell_type": "code",
   "execution_count": null,
   "id": "metallic-signature",
   "metadata": {},
   "outputs": [],
   "source": [
    "p223_process = tile.P223Tile(p223_model)"
   ]
  },
  {
   "cell_type": "code",
   "execution_count": null,
   "id": "fiscal-reverse",
   "metadata": {},
   "outputs": [],
   "source": [
    "p223_title"
   ]
  },
  {
   "cell_type": "code",
   "execution_count": null,
   "id": "related-walnut",
   "metadata": {},
   "outputs": [],
   "source": [
    "# from component import parameter as cp\n",
    "#\n",
    "# p223_model.bin_map = cp.get_result_dir(\"p223\")/\"example_bin_map.tif\"\n",
    "# p223_model.algorithm = 1\n",
    "# p223_model.kdim =  27\n",
    "# p223_model.prescision = 1\n",
    "#\n",
    "# p223_model.__dict__"
   ]
  },
  {
   "cell_type": "code",
   "execution_count": null,
   "id": "dimensional-robinson",
   "metadata": {},
   "outputs": [],
   "source": [
    "p223_convert"
   ]
  },
  {
   "cell_type": "code",
   "execution_count": null,
   "id": "worthy-matrix",
   "metadata": {},
   "outputs": [],
   "source": [
    "p223_process"
   ]
  },
  {
   "cell_type": "code",
   "execution_count": null,
   "id": "imported-possible",
   "metadata": {},
   "outputs": [],
   "source": []
  }
 ],
 "metadata": {
  "kernelspec": {
   "display_name": " (venv) GWB Analysis",
   "language": "python",
   "name": "venv-gwb"
  },
  "language_info": {
   "codemirror_mode": {
    "name": "ipython",
    "version": 3
   },
   "file_extension": ".py",
   "mimetype": "text/x-python",
   "name": "python",
   "nbconvert_exporter": "python",
   "pygments_lexer": "ipython3",
   "version": "3.8.10"
  }
 },
 "nbformat": 4,
 "nbformat_minor": 5
}
