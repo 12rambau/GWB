{
 "cells": [
  {
   "cell_type": "code",
   "execution_count": null,
   "metadata": {},
   "outputs": [],
   "source": [
    "# !!! testing purpose !!!\n",
    "# this cell is for testing the translation component \n",
    "# try uncomment the 2 following line to see the fr translation of the module\n",
    "#import os\n",
    "#os.environ[\"CUSTOM_LANGUAGE\"] = \"fr\""
   ]
  },
  {
   "cell_type": "code",
   "execution_count": null,
   "metadata": {},
   "outputs": [],
   "source": [
    "from sepal_ui import sepalwidgets as sw\n",
    "from component.message import cm"
   ]
  },
  {
   "cell_type": "code",
   "execution_count": null,
   "metadata": {},
   "outputs": [],
   "source": [
    "# Create an appBar\n",
    "app_bar = sw.AppBar(cm.app.title)"
   ]
  },
  {
   "cell_type": "code",
   "execution_count": null,
   "metadata": {},
   "outputs": [],
   "source": [
    "# Create a footer\n",
    "# the footer will be display in the bottom of the page \n",
    "# it's not a mandatory feature \n",
    "app_footer = sw.Footer(cm.app.footer.format(2020))"
   ]
  },
  {
   "cell_type": "code",
   "execution_count": null,
   "metadata": {},
   "outputs": [],
   "source": [
    "# load the patial files\n",
    "%run 'about_ui.ipynb'\n",
    "%run 'licence_ui.ipynb'\n",
    "%run 'acc_ui.ipynb'\n",
    "%run 'dist_ui.ipynb'\n",
    "%run 'fad_ui.ipynb'\n",
    "%run 'frag_ui.ipynb'\n",
    "%run 'lm_ui.ipynb'\n",
    "%run 'mspa_ui.ipynb'\n",
    "%run 'p223_ui.ipynb'\n",
    "%run 'parc_ui.ipynb'\n",
    "%run 'rss_ui.ipynb'\n",
    "%run 'spa_ui.ipynb'\n",
    "%run 'reclass_ui.ipynb'\n",
    "\n",
    "\n",
    "# Gather all the partial tiles that you created previously\n",
    "app_content = [ \n",
    "    acc_title, acc_convert, acc_process,\n",
    "    dist_title, dist_convert, dist_process,\n",
    "    fad_title, fad_convert, fad_process,\n",
    "    frag_title, frag_convert, frag_process,\n",
    "    lm_title, lm_convert, lm_process,\n",
    "    mspa_title, mspa_convert, mspa_process,\n",
    "    p223_title, p223_convert, p223_process,\n",
    "    parc_title, parc_convert, parc_process,\n",
    "    rss_title, rss_convert, rss_process,\n",
    "    spa_title, spa_convert, spa_process,\n",
    "    reclass_ui,\n",
    "    about_tile, \n",
    "    disclaimer_tile,\n",
    "    licence_tile\n",
    "]"
   ]
  },
  {
   "cell_type": "code",
   "execution_count": null,
   "metadata": {},
   "outputs": [],
   "source": [
    "# create a drawer for each group of tile \n",
    "# use the DrawerItem widget from sepalwidget (name_of_drawer, icon, the id of the widgets you want to display)\n",
    "# use the display_tile() method to link the times with the drawer items\n",
    "items = [\n",
    "    sw.DrawerItem(cm.app.drawer_item.acc, 'mdi-cogs', card=acc_model.tile_id),\n",
    "    sw.DrawerItem(cm.app.drawer_item.dist, 'mdi-cogs', card=dist_model.tile_id),\n",
    "    sw.DrawerItem(cm.app.drawer_item.fad, 'mdi-cogs', card=fad_model.tile_id),\n",
    "    sw.DrawerItem(cm.app.drawer_item.frag, 'mdi-cogs', card=frag_model.tile_id),\n",
    "    sw.DrawerItem(cm.app.drawer_item.lm, 'mdi-cogs', card=lm_model.tile_id),\n",
    "    sw.DrawerItem(cm.app.drawer_item.mspa, 'mdi-cogs', card=mspa_model.tile_id),\n",
    "    sw.DrawerItem(cm.app.drawer_item.p223, 'mdi-cogs', card=p223_model.tile_id),\n",
    "    sw.DrawerItem(cm.app.drawer_item.parc, 'mdi-cogs', card=parc_model.tile_id),\n",
    "    sw.DrawerItem(cm.app.drawer_item.rss, 'mdi-cogs', card=rss_model.tile_id),\n",
    "    sw.DrawerItem(cm.app.drawer_item.spa, 'mdi-cogs', card=spa_model.tile_id),\n",
    "    sw.DrawerItem(cm.app.drawer_item.rcl, 'mdi-cogs', card='reclassify'),\n",
    "    sw.DrawerItem(cm.app.drawer_item.about, 'mdi-help-circle', card=\"about_tile\"),\n",
    "    sw.DrawerItem(cm.app.drawer_item.licence, 'mdi-gavel', card=\"licence_tile\")\n",
    "]\n",
    "\n",
    "# !!! not mandatory !!! \n",
    "# Add the links to the code, wiki and issue tracker of your \n",
    "code_link = 'https://github.com/12rambau/gwb'\n",
    "wiki_link = 'https://docs.sepal.io/en/latest/modules/dwn/gwb.html'\n",
    "issue_link = 'https://github.com/12rambau/gwb/issues/new'\n",
    "\n",
    "# Create the side drawer with all its components \n",
    "# The display_drawer() method link the drawer with the app bar\n",
    "app_drawer = sw.NavDrawer(\n",
    "    items = items, \n",
    "    code  = code_link, \n",
    "    wiki  = wiki_link, \n",
    "    issue = issue_link\n",
    ")"
   ]
  },
  {
   "cell_type": "code",
   "execution_count": null,
   "metadata": {},
   "outputs": [],
   "source": [
    "# build the Html final app by gathering everything \n",
    "app = sw.App(\n",
    "    tiles    = app_content, \n",
    "    appBar   = app_bar, \n",
    "    footer   = app_footer, \n",
    "    navDrawer= app_drawer\n",
    ").show_tile('about_tile') # id of the tile you want to display"
   ]
  },
  {
   "cell_type": "code",
   "execution_count": null,
   "metadata": {},
   "outputs": [],
   "source": [
    "# display the app\n",
    "# this final cell will be the only one displaying something in this notebook \n",
    "# if you run all this notebook you may see elements displayed on the left side of your screen but it won't work\n",
    "# it can only be launched with voila as it's creating a full page javascript interface\n",
    "app"
   ]
  },
  {
   "cell_type": "code",
   "execution_count": null,
   "metadata": {},
   "outputs": [],
   "source": [
    "# display the licence dialog\n",
    "from component import widget as cw\n",
    "cw.LicenceDialog()"
   ]
  },
  {
   "cell_type": "code",
   "execution_count": null,
   "metadata": {},
   "outputs": [],
   "source": []
  }
 ],
 "metadata": {
  "kernelspec": {
   "display_name": "Python 3",
   "language": "python",
   "name": "python3"
  },
  "language_info": {
   "codemirror_mode": {
    "name": "ipython",
    "version": 3
   },
   "file_extension": ".py",
   "mimetype": "text/x-python",
   "name": "python",
   "nbconvert_exporter": "python",
   "pygments_lexer": "ipython3",
   "version": "3.8.10"
  },
  "voila": {
   "theme": "dark"
  }
 },
 "nbformat": 4,
 "nbformat_minor": 4
}
