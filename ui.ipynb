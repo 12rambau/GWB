{
 "cells": [
  {
   "cell_type": "code",
   "execution_count": null,
   "metadata": {
    "tags": []
   },
   "outputs": [],
   "source": [
    "%load_ext autoreload\n",
    "%autoreload 2"
   ]
  },
  {
   "cell_type": "code",
   "execution_count": null,
   "metadata": {
    "tags": []
   },
   "outputs": [],
   "source": [
    "from sepal_ui import sepalwidgets as sw\n",
    "from component.tile.reclassify import *\n",
    "from component import model\n",
    "from component import tile\n",
    "from component.message import cm"
   ]
  },
  {
   "cell_type": "code",
   "execution_count": null,
   "metadata": {},
   "outputs": [],
   "source": [
    "# Create an appBar\n",
    "app_bar = sw.AppBar(cm.app.title)"
   ]
  },
  {
   "cell_type": "code",
   "execution_count": null,
   "metadata": {},
   "outputs": [],
   "source": [
    "about_tile = sw.TileAbout(\"utils/ABOUT.md\")\n",
    "about_tile.set_title(\"\")\n",
    "about_tile\n",
    "disclaimer_tile = tile.TileDisclaimer()"
   ]
  },
  {
   "cell_type": "code",
   "execution_count": null,
   "metadata": {
    "tags": []
   },
   "outputs": [],
   "source": [
    "# hack of the about_tile to create a licence tile\n",
    "licence_tile = sw.TileAbout(\"utils/EULA.md\")\n",
    "licence_tile._metadata[\"mount_id\"] = \"licence_tile\""
   ]
  },
  {
   "cell_type": "code",
   "execution_count": null,
   "metadata": {
    "tags": []
   },
   "outputs": [],
   "source": [
    "from component.tile.landing_tile import LandingTile\n",
    "landing_tile = LandingTile()"
   ]
  },
  {
   "cell_type": "code",
   "execution_count": null,
   "metadata": {},
   "outputs": [],
   "source": [
    "# Gather all the partial tiles that you created previously\n",
    "app_content = [\n",
    "    landing_tile,\n",
    "    about_tile,\n",
    "    disclaimer_tile,\n",
    "    licence_tile,\n",
    "]"
   ]
  },
  {
   "cell_type": "code",
   "execution_count": null,
   "metadata": {},
   "outputs": [],
   "source": [
    "# create a drawer for each group of tile\n",
    "# use the DrawerItem widget from sepalwidget (name_of_drawer, icon, the id of the widgets you want to display)\n",
    "# use the display_tile() method to link the times with the drawer items\n",
    "items = [\n",
    "    sw.DrawerItem(\"GWB processes\", \"mdi-cogs\", card=\"landing_tile\"),\n",
    "    sw.DrawerItem(cm.app.drawer_item.about, \"mdi-help-circle\", card=\"about_tile\"),\n",
    "    sw.DrawerItem(cm.app.drawer_item.licence, \"mdi-gavel\", card=\"licence_tile\"),\n",
    "]\n",
    "\n",
    "# !!! not mandatory !!!\n",
    "# Add the links to the code, wiki and issue tracker of your\n",
    "code_link = \"https://github.com/12rambau/gwb\"\n",
    "wiki_link = \"https://docs.sepal.io/en/latest/modules/dwn/gwb.html\"\n",
    "issue_link = \"https://github.com/12rambau/gwb/issues/new\"\n",
    "\n",
    "# Create the side drawer with all its components\n",
    "# The display_drawer() method link the drawer with the app bar\n",
    "app_drawer = sw.NavDrawer(items=items, code=code_link, wiki=wiki_link, issue=issue_link)"
   ]
  },
  {
   "cell_type": "code",
   "execution_count": null,
   "metadata": {},
   "outputs": [],
   "source": [
    "# build the Html final app by gathering everything\n",
    "app = sw.App(\n",
    "    tiles=app_content, appBar=app_bar, navDrawer=app_drawer\n",
    ").show_tile(\n",
    "    \"about_tile\"\n",
    ")  # id of the tile you want to display"
   ]
  },
  {
   "cell_type": "code",
   "execution_count": null,
   "metadata": {},
   "outputs": [],
   "source": [
    "app"
   ]
  },
  {
   "cell_type": "code",
   "execution_count": null,
   "metadata": {},
   "outputs": [],
   "source": [
    "# display the licence dialog\n",
    "from component import widget as cw\n",
    "\n",
    "cw.LicenceDialog()"
   ]
  },
  {
   "cell_type": "markdown",
   "metadata": {},
   "source": [
    "<center><h1 class=\"text-center h3\" id=\"loading_app\">Setting things up for you... Thanks for waiting!</h1></center>"
   ]
  },
  {
   "cell_type": "code",
   "execution_count": null,
   "metadata": {
    "tags": []
   },
   "outputs": [],
   "source": [
    "import ipyvuetify as v\n",
    "\n",
    "v.Html(tag=\"style\", children = [\n",
    "    \"\"\"\n",
    "    #loading_app {\n",
    "        display: none !important;\n",
    "    }\n",
    "    \"\"\"\n",
    "])"
   ]
  }
 ],
 "metadata": {
  "kernelspec": {
   "display_name": " (venv) GWB Analysis",
   "language": "python",
   "name": "venv-gwb"
  },
  "language_info": {
   "codemirror_mode": {
    "name": "ipython",
    "version": 3
   },
   "file_extension": ".py",
   "mimetype": "text/x-python",
   "name": "python",
   "nbconvert_exporter": "python",
   "pygments_lexer": "ipython3",
   "version": "3.8.10"
  },
  "voila": {
   "theme": "dark"
  }
 },
 "nbformat": 4,
 "nbformat_minor": 4
}
