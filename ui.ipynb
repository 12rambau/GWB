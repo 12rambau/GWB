{
 "cells": [
  {
   "cell_type": "code",
   "execution_count": 1,
   "metadata": {},
   "outputs": [],
   "source": [
    "# !!! testing purpose !!!\n",
    "# this cell is for testing the translation component \n",
    "# try uncomment the 2 following line to see the fr translation of the module\n",
    "#import os\n",
    "#os.environ[\"CUSTOM_LANGUAGE\"] = \"fr\""
   ]
  },
  {
   "cell_type": "code",
   "execution_count": 2,
   "metadata": {},
   "outputs": [
    {
     "data": {
      "application/vnd.jupyter.widget-view+json": {
       "model_id": "524b45f799bc4aaf9581e9050f74d183",
       "version_major": 2,
       "version_minor": 0
      },
      "text/plain": [
       "HTML(value='\\n<style>\\n.leaflet-pane {\\n    z-index : 2 !important;\\n}\\n.leaflet-top, .leaflet-bottom {\\n    z…"
      ]
     },
     "metadata": {},
     "output_type": "display_data"
    },
    {
     "data": {
      "application/vnd.jupyter.widget-view+json": {
       "model_id": "afe49222e5474b82bffdfba4389d6b2b",
       "version_major": 2,
       "version_minor": 0
      },
      "text/plain": [
       "ResizeTrigger()"
      ]
     },
     "metadata": {},
     "output_type": "display_data"
    }
   ],
   "source": [
    "from sepal_ui import sepalwidgets as sw\n",
    "from component.message import cm"
   ]
  },
  {
   "cell_type": "code",
   "execution_count": 3,
   "metadata": {},
   "outputs": [],
   "source": [
    "# Create an appBar\n",
    "app_bar = sw.AppBar(cm.app.title)"
   ]
  },
  {
   "cell_type": "code",
   "execution_count": 4,
   "metadata": {},
   "outputs": [],
   "source": [
    "# Create a footer\n",
    "# the footer will be display in the bottom of the page \n",
    "# it's not a mandatory feature \n",
    "app_footer = sw.Footer(cm.app.footer.format(2020))"
   ]
  },
  {
   "cell_type": "code",
   "execution_count": 5,
   "metadata": {},
   "outputs": [],
   "source": [
    "# load the patial files\n",
    "%run 'about_ui.ipynb'\n",
    "%run 'licence_ui.ipynb'\n",
    "%run 'acc_ui.ipynb'\n",
    "%run 'dist_ui.ipynb'\n",
    "%run 'fad_ui.ipynb'\n",
    "%run 'frag_ui.ipynb'\n",
    "%run 'lm_ui.ipynb'\n",
    "%run 'mspa_ui.ipynb'\n",
    "%run 'p222_ui.ipynb'\n",
    "%run 'parc_ui.ipynb'\n",
    "%run 'rss_ui.ipynb'\n",
    "%run 'spa_ui.ipynb'\n",
    "\n",
    "# Gather all the partial tiles that you created previously\n",
    "app_content = [ \n",
    "    acc_title, acc_convert, acc_process,\n",
    "    dist_title, dist_convert, dist_process,\n",
    "    fad_title, fad_convert, fad_process,\n",
    "    frag_title, frag_convert, frag_process,\n",
    "    lm_title, lm_convert, lm_process,\n",
    "    mspa_title, mspa_convert, mspa_process,\n",
    "    p222_title, p222_convert, p222_process,\n",
    "    parc_title, parc_convert, parc_process,\n",
    "    rss_title, rss_convert, rss_process,\n",
    "    spa_title, spa_convert, spa_process,\n",
    "    about_tile, \n",
    "    disclaimer_tile,\n",
    "    licence_tile\n",
    "]"
   ]
  },
  {
   "cell_type": "code",
   "execution_count": 6,
   "metadata": {},
   "outputs": [],
   "source": [
    "# create a drawer for each group of tile \n",
    "# use the DrawerItem widget from sepalwidget (name_of_drawer, icon, the id of the widgets you want to display)\n",
    "# use the display_tile() method to link the times with the drawer items\n",
    "items = [\n",
    "    sw.DrawerItem(cm.app.drawer_item.acc, 'mdi-cogs', card=acc_io.tile_id).display_tile(app_content),\n",
    "    sw.DrawerItem(cm.app.drawer_item.dist, 'mdi-cogs', card=dist_io.tile_id).display_tile(app_content),\n",
    "    sw.DrawerItem(cm.app.drawer_item.fad, 'mdi-cogs', card=fad_io.tile_id).display_tile(app_content),\n",
    "    sw.DrawerItem(cm.app.drawer_item.frag, 'mdi-cogs', card=frag_io.tile_id).display_tile(app_content),\n",
    "    sw.DrawerItem(cm.app.drawer_item.lm, 'mdi-cogs', card=lm_io.tile_id).display_tile(app_content),\n",
    "    sw.DrawerItem(cm.app.drawer_item.mspa, 'mdi-cogs', card=mspa_io.tile_id).display_tile(app_content),\n",
    "    sw.DrawerItem(cm.app.drawer_item.p222, 'mdi-cogs', card=p222_io.tile_id).display_tile(app_content),\n",
    "    sw.DrawerItem(cm.app.drawer_item.parc, 'mdi-cogs', card=parc_io.tile_id).display_tile(app_content),\n",
    "    sw.DrawerItem(cm.app.drawer_item.rss, 'mdi-cogs', card=rss_io.tile_id).display_tile(app_content),\n",
    "    sw.DrawerItem(cm.app.drawer_item.spa, 'mdi-cogs', card=spa_io.tile_id).display_tile(app_content),\n",
    "    sw.DrawerItem(cm.app.drawer_item.about, 'mdi-help-circle', card=\"about_widget\").display_tile(app_content),\n",
    "    sw.DrawerItem(cm.app.drawer_item.licence, 'mdi-gavel', card=\"licence_tile\").display_tile(app_content)\n",
    "]\n",
    "\n",
    "# !!! not mandatory !!! \n",
    "# Add the links to the code, wiki and issue tracker of your \n",
    "code_link = 'https://github.com/12rambau/gwb'\n",
    "wiki_link = 'https://github.com/12rambau/gwb/blob/master/doc/fake_doc.md'\n",
    "issue_link = 'https://github.com/12rambau/gwb/issues/new'\n",
    "\n",
    "# Create the side drawer with all its components \n",
    "# The display_drawer() method link the drawer with the app bar\n",
    "app_drawer = sw.NavDrawer(\n",
    "    items = items, \n",
    "    code  = code_link, \n",
    "    wiki  = wiki_link, \n",
    "    issue = issue_link\n",
    ").display_drawer(app_bar.toggle_button)\n"
   ]
  },
  {
   "cell_type": "code",
   "execution_count": 7,
   "metadata": {},
   "outputs": [],
   "source": [
    "# build the Html final app by gathering everything \n",
    "app = sw.App(\n",
    "    tiles    = app_content, \n",
    "    appBar   = app_bar, \n",
    "    footer   = app_footer, \n",
    "    navDrawer= app_drawer\n",
    ").show_tile('about_widget') # id of the tile you want to display"
   ]
  },
  {
   "cell_type": "code",
   "execution_count": 8,
   "metadata": {},
   "outputs": [
    {
     "data": {
      "application/vnd.jupyter.widget-view+json": {
       "model_id": "503a4ba32bc3431798620d20d632d2f8",
       "version_major": 2,
       "version_minor": 0
      },
      "text/plain": [
       "App(children=[NavDrawer(app=True, children=[List(children=[DrawerItem(children=[ListItemAction(children=[Icon(…"
      ]
     },
     "metadata": {},
     "output_type": "display_data"
    }
   ],
   "source": [
    "# display the app\n",
    "# this final cell will be the only one displaying something in this notebook \n",
    "# if you run all this notebook you may see elements displayed on the left side of your screen but it won't work\n",
    "# it can only be launched with voila as it's creating a full page javascript interface\n",
    "app"
   ]
  },
  {
   "cell_type": "code",
   "execution_count": 9,
   "metadata": {},
   "outputs": [
    {
     "data": {
      "application/vnd.jupyter.widget-view+json": {
       "model_id": "bdcfcd071c2748ca9135bb140fb47ed5",
       "version_major": 2,
       "version_minor": 0
      },
      "text/plain": [
       "LicenceDialog(children=[Card(children=[CardActions(children=[Btn(children=['Accept the term of licence'], colo…"
      ]
     },
     "metadata": {},
     "output_type": "display_data"
    }
   ],
   "source": [
    "# display the licence dialog\n",
    "from component import widget as cw\n",
    "cw.LicenceDialog()"
   ]
  },
  {
   "cell_type": "code",
   "execution_count": null,
   "metadata": {},
   "outputs": [],
   "source": []
  }
 ],
 "metadata": {
  "kernelspec": {
   "display_name": "Python 3",
   "language": "python",
   "name": "python3"
  },
  "language_info": {
   "codemirror_mode": {
    "name": "ipython",
    "version": 3
   },
   "file_extension": ".py",
   "mimetype": "text/x-python",
   "name": "python",
   "nbconvert_exporter": "python",
   "pygments_lexer": "ipython3",
   "version": "3.6.9"
  }
 },
 "nbformat": 4,
 "nbformat_minor": 4
}
