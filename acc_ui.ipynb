{
 "cells": [
  {
   "cell_type": "code",
   "execution_count": 2,
   "id": "honey-roller",
   "metadata": {},
   "outputs": [],
   "source": [
    "from sepal_ui import sepalwidgets as sw \n",
    "\n",
    "from component import io \n",
    "from component import tile\n",
    "from component.message import cm"
   ]
  },
  {
   "cell_type": "code",
   "execution_count": 3,
   "id": "associate-terry",
   "metadata": {},
   "outputs": [],
   "source": [
    "acc_io = io.AccIo()"
   ]
  },
  {
   "cell_type": "code",
   "execution_count": 4,
   "id": "seven-terry",
   "metadata": {},
   "outputs": [],
   "source": [
    "acc_title = sw.Tile(acc_io.tile_id, cm.acc.title, [sw.Markdown(cm.acc.description)])"
   ]
  },
  {
   "cell_type": "code",
   "execution_count": 5,
   "id": "tested-pension",
   "metadata": {},
   "outputs": [],
   "source": [
    "acc_convert = tile.ConvertByte(acc_io, 4)"
   ]
  },
  {
   "cell_type": "code",
   "execution_count": 6,
   "id": "early-tiger",
   "metadata": {},
   "outputs": [],
   "source": [
    "acc_process = tile.AccTile(acc_io)"
   ]
  },
  {
   "cell_type": "code",
   "execution_count": 7,
   "id": "metropolitan-great",
   "metadata": {},
   "outputs": [
    {
     "data": {
      "application/vnd.jupyter.widget-view+json": {
       "model_id": "de9343ce2ea3452f98ae2b52e5e84480",
       "version_major": 2,
       "version_minor": 0
      },
      "text/plain": [
       "Tile(align_center=True, children=[Card(children=[Html(children=['ACC: Accounting of image objects and areas'],…"
      ]
     },
     "metadata": {},
     "output_type": "display_data"
    }
   ],
   "source": [
    "acc_title"
   ]
  },
  {
   "cell_type": "code",
   "execution_count": null,
   "id": "subject-vector",
   "metadata": {},
   "outputs": [],
   "source": [
    "#from pathlib import Path\n",
    "#\n",
    "#acc_io.bin_map = Path('/home/prambaud/gwb_results/acc/example_bin_map.tif')\n",
    "#acc_io.connectivity = 8\n",
    "#acc_io.res =  25\n",
    "#acc_io.thresholds = '[200, 2000, 20000, 100000, 200000]'\n",
    "#acc_io.option = 'default'\n",
    "#acc_io.__dict__"
   ]
  },
  {
   "cell_type": "code",
   "execution_count": 8,
   "id": "accessible-folder",
   "metadata": {},
   "outputs": [
    {
     "data": {
      "application/vnd.jupyter.widget-view+json": {
       "model_id": "74e80d8770164d9a96234386e6483da6",
       "version_major": 2,
       "version_minor": 0
      },
      "text/plain": [
       "ConvertByte(align_center=True, children=[Card(children=[Html(children=['Select input map classes'], tag='h2'),…"
      ]
     },
     "metadata": {},
     "output_type": "display_data"
    }
   ],
   "source": [
    "acc_convert"
   ]
  },
  {
   "cell_type": "code",
   "execution_count": 9,
   "id": "beginning-engagement",
   "metadata": {},
   "outputs": [
    {
     "data": {
      "application/vnd.jupyter.widget-view+json": {
       "model_id": "237453fa868b4ab08e7c631396787fbc",
       "version_major": 2,
       "version_minor": 0
      },
      "text/plain": [
       "AccTile(align_center=True, children=[Card(children=[Html(children=['Run Process'], tag='h2'), Flex(children=[S…"
      ]
     },
     "metadata": {},
     "output_type": "display_data"
    }
   ],
   "source": [
    "acc_process"
   ]
  }
 ],
 "metadata": {
  "kernelspec": {
   "display_name": "Python 3",
   "language": "python",
   "name": "python3"
  },
  "language_info": {
   "codemirror_mode": {
    "name": "ipython",
    "version": 3
   },
   "file_extension": ".py",
   "mimetype": "text/x-python",
   "name": "python",
   "nbconvert_exporter": "python",
   "pygments_lexer": "ipython3",
   "version": "3.6.9"
  }
 },
 "nbformat": 4,
 "nbformat_minor": 5
}
