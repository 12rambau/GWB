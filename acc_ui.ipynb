{
 "cells": [
  {
   "cell_type": "code",
   "execution_count": null,
   "id": "raising-tourism",
   "metadata": {},
   "outputs": [],
   "source": [
    "from sepal_ui import sepalwidgets as sw \n",
    "\n",
    "from component import io \n",
    "from component import tile\n",
    "from component.message import cm"
   ]
  },
  {
   "cell_type": "code",
   "execution_count": null,
   "id": "coordinate-corpus",
   "metadata": {},
   "outputs": [],
   "source": [
    "acc_io = io.AccIo()"
   ]
  },
  {
   "cell_type": "code",
   "execution_count": null,
   "id": "unusual-lying",
   "metadata": {},
   "outputs": [],
   "source": [
    "acc_title = sw.Tile(acc_io.tile_id, cm.acc.title, [sw.Markdown(cm.acc.description)])"
   ]
  },
  {
   "cell_type": "code",
   "execution_count": null,
   "id": "uniform-complaint",
   "metadata": {},
   "outputs": [],
   "source": [
    "acc_convert = tile.FourBytes(acc_io)"
   ]
  },
  {
   "cell_type": "code",
   "execution_count": null,
   "id": "pediatric-publication",
   "metadata": {},
   "outputs": [],
   "source": [
    "acc_process = tile.AccTile(acc_io)"
   ]
  },
  {
   "cell_type": "code",
   "execution_count": null,
   "id": "considered-interim",
   "metadata": {},
   "outputs": [],
   "source": [
    "acc_title"
   ]
  },
  {
   "cell_type": "code",
   "execution_count": null,
   "id": "united-drove",
   "metadata": {},
   "outputs": [],
   "source": [
    "#from pathlib import Path\n",
    "#\n",
    "#acc_io.bin_map = Path('/home/prambaud/gwb_results/acc/example_bin_map.tif')\n",
    "#acc_io.connectivity = 8\n",
    "#acc_io.res =  25\n",
    "#acc_io.thresholds = '[200, 2000, 20000, 100000, 200000]'\n",
    "#acc_io.option = 'default'\n",
    "#acc_io.__dict__"
   ]
  },
  {
   "cell_type": "code",
   "execution_count": null,
   "id": "characteristic-netherlands",
   "metadata": {},
   "outputs": [],
   "source": [
    "acc_convert"
   ]
  },
  {
   "cell_type": "code",
   "execution_count": null,
   "id": "continental-rogers",
   "metadata": {},
   "outputs": [],
   "source": [
    "acc_process"
   ]
  },
  {
   "cell_type": "code",
   "execution_count": null,
   "id": "complimentary-homework",
   "metadata": {},
   "outputs": [],
   "source": []
  }
 ],
 "metadata": {
  "kernelspec": {
   "display_name": "Python 3",
   "language": "python",
   "name": "python3"
  },
  "language_info": {
   "codemirror_mode": {
    "name": "ipython",
    "version": 3
   },
   "file_extension": ".py",
   "mimetype": "text/x-python",
   "name": "python",
   "nbconvert_exporter": "python",
   "pygments_lexer": "ipython3",
   "version": "3.6.9"
  }
 },
 "nbformat": 4,
 "nbformat_minor": 5
}
