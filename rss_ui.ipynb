{
 "cells": [
  {
   "cell_type": "code",
   "execution_count": null,
   "id": "indian-virgin",
   "metadata": {},
   "outputs": [],
   "source": [
    "from sepal_ui import sepalwidgets as sw \n",
    "\n",
    "from component import io \n",
    "from component import tile\n",
    "from component.message import cm"
   ]
  },
  {
   "cell_type": "code",
   "execution_count": null,
   "id": "sealed-midnight",
   "metadata": {},
   "outputs": [],
   "source": [
    "rss_io = io.RssIo()"
   ]
  },
  {
   "cell_type": "code",
   "execution_count": null,
   "id": "southeast-prince",
   "metadata": {},
   "outputs": [],
   "source": [
    "rss_title = sw.Tile(rss_io.tile_id, cm.rss.title, [sw.Markdown(cm.rss.description)])"
   ]
  },
  {
   "cell_type": "code",
   "execution_count": null,
   "id": "intense-argument",
   "metadata": {},
   "outputs": [],
   "source": [
    "rss_convert = tile.TwoBytes(rss_io)"
   ]
  },
  {
   "cell_type": "code",
   "execution_count": null,
   "id": "colored-address",
   "metadata": {},
   "outputs": [],
   "source": [
    "rss_process = tile.RssTile(rss_io)"
   ]
  },
  {
   "cell_type": "code",
   "execution_count": null,
   "id": "local-immigration",
   "metadata": {},
   "outputs": [],
   "source": [
    "rss_title"
   ]
  },
  {
   "cell_type": "code",
   "execution_count": null,
   "id": "designed-creature",
   "metadata": {},
   "outputs": [],
   "source": [
    "#from pathlib import Path\n",
    "#\n",
    "#rss_io.bin_map = Path('/home/prambaud/gwb_results/rss/example_bin_map.tif')\n",
    "#rss_io.connectivity = 8\n",
    "\n",
    "#rss_io.__dict__"
   ]
  },
  {
   "cell_type": "code",
   "execution_count": null,
   "id": "aboriginal-mortality",
   "metadata": {},
   "outputs": [],
   "source": [
    "rss_convert"
   ]
  },
  {
   "cell_type": "code",
   "execution_count": null,
   "id": "regular-invasion",
   "metadata": {},
   "outputs": [],
   "source": [
    "rss_process"
   ]
  },
  {
   "cell_type": "code",
   "execution_count": null,
   "id": "linear-carroll",
   "metadata": {},
   "outputs": [],
   "source": []
  }
 ],
 "metadata": {
  "kernelspec": {
   "display_name": "Python 3",
   "language": "python",
   "name": "python3"
  },
  "language_info": {
   "codemirror_mode": {
    "name": "ipython",
    "version": 3
   },
   "file_extension": ".py",
   "mimetype": "text/x-python",
   "name": "python",
   "nbconvert_exporter": "python",
   "pygments_lexer": "ipython3",
   "version": "3.6.9"
  }
 },
 "nbformat": 4,
 "nbformat_minor": 5
}
