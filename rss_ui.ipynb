{
 "cells": [
  {
   "cell_type": "code",
   "execution_count": null,
   "id": "funny-ranch",
   "metadata": {},
   "outputs": [],
   "source": [
    "from sepal_ui import sepalwidgets as sw\n",
    "\n",
    "from component import model\n",
    "from component import tile\n",
    "from component.message import cm"
   ]
  },
  {
   "cell_type": "code",
   "execution_count": null,
   "id": "divine-bullet",
   "metadata": {},
   "outputs": [],
   "source": [
    "rss_model = model.RssModel()"
   ]
  },
  {
   "cell_type": "code",
   "execution_count": null,
   "id": "verified-flour",
   "metadata": {},
   "outputs": [],
   "source": [
    "rss_title = sw.Tile(rss_model.tile_id, cm.rss.title, [sw.Markdown(cm.rss.description)])"
   ]
  },
  {
   "cell_type": "code",
   "execution_count": null,
   "id": "established-allowance",
   "metadata": {},
   "outputs": [],
   "source": [
    "rss_convert = tile.ConvertByte(rss_model, 2)"
   ]
  },
  {
   "cell_type": "code",
   "execution_count": null,
   "id": "sufficient-screen",
   "metadata": {},
   "outputs": [],
   "source": [
    "rss_process = tile.RssTile(rss_model)"
   ]
  },
  {
   "cell_type": "code",
   "execution_count": null,
   "id": "norman-instruction",
   "metadata": {},
   "outputs": [],
   "source": [
    "rss_title"
   ]
  },
  {
   "cell_type": "code",
   "execution_count": null,
   "id": "respective-realtor",
   "metadata": {},
   "outputs": [],
   "source": [
    "# from component import parameter as cp\n",
    "#\n",
    "# rss_model.bin_map = cp.get_result_dir(\"rss\")/\"example_bin_map.tif\"\n",
    "# rss_model.connectivity = 8\n",
    "#\n",
    "# rss_model.__dict__"
   ]
  },
  {
   "cell_type": "code",
   "execution_count": null,
   "id": "floating-palestine",
   "metadata": {},
   "outputs": [],
   "source": [
    "rss_convert"
   ]
  },
  {
   "cell_type": "code",
   "execution_count": null,
   "id": "weighted-depression",
   "metadata": {},
   "outputs": [],
   "source": [
    "rss_process"
   ]
  },
  {
   "cell_type": "code",
   "execution_count": null,
   "id": "editorial-method",
   "metadata": {},
   "outputs": [],
   "source": []
  }
 ],
 "metadata": {
  "kernelspec": {
   "display_name": " (venv) GWB Analysis",
   "language": "python",
   "name": "venv-gwb"
  },
  "language_info": {
   "codemirror_mode": {
    "name": "ipython",
    "version": 3
   },
   "file_extension": ".py",
   "mimetype": "text/x-python",
   "name": "python",
   "nbconvert_exporter": "python",
   "pygments_lexer": "ipython3",
   "version": "3.8.10"
  }
 },
 "nbformat": 4,
 "nbformat_minor": 5
}
