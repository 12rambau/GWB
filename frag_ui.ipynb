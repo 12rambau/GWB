{
 "cells": [
  {
   "cell_type": "code",
   "execution_count": null,
   "id": "prepared-formula",
   "metadata": {},
   "outputs": [],
   "source": [
    "from sepal_ui import sepalwidgets as sw\n",
    "\n",
    "from component import model\n",
    "from component import tile\n",
    "from component.message import cm"
   ]
  },
  {
   "cell_type": "code",
   "execution_count": null,
   "id": "intellectual-biodiversity",
   "metadata": {},
   "outputs": [],
   "source": [
    "frag_model = model.FragModel()"
   ]
  },
  {
   "cell_type": "code",
   "execution_count": null,
   "id": "dedicated-appearance",
   "metadata": {},
   "outputs": [],
   "source": [
    "frag_title = sw.Tile(\n",
    "    frag_model.tile_id, cm.frag.title, [sw.Markdown(cm.frag.description)]\n",
    ")"
   ]
  },
  {
   "cell_type": "code",
   "execution_count": null,
   "id": "cathedral-ground",
   "metadata": {},
   "outputs": [],
   "source": [
    "frag_convert = tile.ConvertByte(frag_model, 4)"
   ]
  },
  {
   "cell_type": "code",
   "execution_count": null,
   "id": "sustainable-writing",
   "metadata": {},
   "outputs": [],
   "source": [
    "frag_process = tile.FragTile(frag_model)"
   ]
  },
  {
   "cell_type": "code",
   "execution_count": null,
   "id": "still-chile",
   "metadata": {},
   "outputs": [],
   "source": [
    "frag_title"
   ]
  },
  {
   "cell_type": "code",
   "execution_count": null,
   "id": "revolutionary-optics",
   "metadata": {},
   "outputs": [],
   "source": [
    "# from component import parameter as cp\n",
    "#\n",
    "# frag_model.bin_map = cp.get_result_dir(\"frag\")/\"example_bin_map.tif\"\n",
    "# frag_model.connectivity = 8\n",
    "# frag_model.res =  100\n",
    "# frag_model.window_size = '[17, 11, 7]'\n",
    "# frag_model.option = 'FAD-APP2'\n",
    "# frag_model.prescision = 1\n",
    "#\n",
    "# frag_model.__dict__"
   ]
  },
  {
   "cell_type": "code",
   "execution_count": null,
   "id": "competent-survival",
   "metadata": {},
   "outputs": [],
   "source": [
    "frag_convert"
   ]
  },
  {
   "cell_type": "code",
   "execution_count": null,
   "id": "eleven-eating",
   "metadata": {},
   "outputs": [],
   "source": [
    "frag_process"
   ]
  },
  {
   "cell_type": "code",
   "execution_count": null,
   "id": "abandoned-dryer",
   "metadata": {},
   "outputs": [],
   "source": []
  }
 ],
 "metadata": {
  "kernelspec": {
   "display_name": " (venv) GWB Analysis",
   "language": "python",
   "name": "venv-gwb"
  },
  "language_info": {
   "codemirror_mode": {
    "name": "ipython",
    "version": 3
   },
   "file_extension": ".py",
   "mimetype": "text/x-python",
   "name": "python",
   "nbconvert_exporter": "python",
   "pygments_lexer": "ipython3",
   "version": "3.8.10"
  }
 },
 "nbformat": 4,
 "nbformat_minor": 5
}
