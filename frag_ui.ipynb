{
 "cells": [
  {
   "cell_type": "code",
   "execution_count": null,
   "id": "prepared-formula",
   "metadata": {},
   "outputs": [],
   "source": [
    "from sepal_ui import sepalwidgets as sw \n",
    "\n",
    "from component import io \n",
    "from component import tile\n",
    "from component.message import cm"
   ]
  },
  {
   "cell_type": "code",
   "execution_count": null,
   "id": "intellectual-biodiversity",
   "metadata": {},
   "outputs": [],
   "source": [
    "frag_io = io.FragIo()"
   ]
  },
  {
   "cell_type": "code",
   "execution_count": null,
   "id": "dedicated-appearance",
   "metadata": {},
   "outputs": [],
   "source": [
    "frag_title = sw.Tile(frag_io.tile_id, cm.frag.title, [sw.Markdown(cm.frag.description)])"
   ]
  },
  {
   "cell_type": "code",
   "execution_count": null,
   "id": "cathedral-ground",
   "metadata": {},
   "outputs": [],
   "source": [
    "frag_convert = tile.ConvertByte(frag_io, 4)"
   ]
  },
  {
   "cell_type": "code",
   "execution_count": null,
   "id": "sustainable-writing",
   "metadata": {},
   "outputs": [],
   "source": [
    "frag_process = tile.FragTile(frag_io)"
   ]
  },
  {
   "cell_type": "code",
   "execution_count": null,
   "id": "still-chile",
   "metadata": {},
   "outputs": [],
   "source": [
    "frag_title"
   ]
  },
  {
   "cell_type": "code",
   "execution_count": null,
   "id": "revolutionary-optics",
   "metadata": {},
   "outputs": [],
   "source": [
    "#from pathlib import Path\n",
    "#\n",
    "#frag_io.bin_map = Path('/home/prambaud/gwb_results/frag/example_bin_map.tif')\n",
    "#frag_io.connectivity = 8\n",
    "#frag_io.res =  100\n",
    "#frag_io.window_size = '[17, 11, 7]'\n",
    "#frag_io.option = 'FAD-APP2'\n",
    "#frag_io.prescision = 1\n",
    "#\n",
    "#frag_io.__dict__"
   ]
  },
  {
   "cell_type": "code",
   "execution_count": null,
   "id": "competent-survival",
   "metadata": {},
   "outputs": [],
   "source": [
    "frag_convert"
   ]
  },
  {
   "cell_type": "code",
   "execution_count": null,
   "id": "eleven-eating",
   "metadata": {},
   "outputs": [],
   "source": [
    "frag_process"
   ]
  },
  {
   "cell_type": "code",
   "execution_count": null,
   "id": "abandoned-dryer",
   "metadata": {},
   "outputs": [],
   "source": []
  }
 ],
 "metadata": {
  "kernelspec": {
   "display_name": "Python 3",
   "language": "python",
   "name": "python3"
  },
  "language_info": {
   "codemirror_mode": {
    "name": "ipython",
    "version": 3
   },
   "file_extension": ".py",
   "mimetype": "text/x-python",
   "name": "python",
   "nbconvert_exporter": "python",
   "pygments_lexer": "ipython3",
   "version": "3.6.9"
  }
 },
 "nbformat": 4,
 "nbformat_minor": 5
}
