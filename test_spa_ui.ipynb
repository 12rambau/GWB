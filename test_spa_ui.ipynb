{
 "cells": [
  {
   "cell_type": "code",
   "execution_count": null,
   "id": "sharing-drain",
   "metadata": {},
   "outputs": [],
   "source": [
    "from sepal_ui import sepalwidgets as sw\n",
    "\n",
    "from component import model\n",
    "from component import tile\n",
    "from component.message import cm"
   ]
  },
  {
   "cell_type": "code",
   "execution_count": null,
   "id": "parental-chance",
   "metadata": {},
   "outputs": [],
   "source": [
    "spa_model = model.SpaModel()"
   ]
  },
  {
   "cell_type": "code",
   "execution_count": null,
   "id": "demographic-elevation",
   "metadata": {},
   "outputs": [],
   "source": [
    "spa_title = sw.Tile(spa_model.tile_id, cm.spa.title, [sw.Markdown(cm.spa.description)])"
   ]
  },
  {
   "cell_type": "code",
   "execution_count": null,
   "id": "adjacent-centre",
   "metadata": {},
   "outputs": [],
   "source": [
    "spa_convert = tile.ConvertByte(spa_model, 2)"
   ]
  },
  {
   "cell_type": "code",
   "execution_count": null,
   "id": "greatest-iceland",
   "metadata": {},
   "outputs": [],
   "source": [
    "spa_process = tile.SpaTile(spa_model)"
   ]
  },
  {
   "cell_type": "code",
   "execution_count": null,
   "id": "quantitative-contamination",
   "metadata": {},
   "outputs": [],
   "source": [
    "spa_title"
   ]
  },
  {
   "cell_type": "code",
   "execution_count": null,
   "id": "opponent-aviation",
   "metadata": {},
   "outputs": [],
   "source": [
    "# from component import parameter as cp\n",
    "#\n",
    "# spa_model.bin_map = cp.get_result_dir(\"spa\")/\"example_bin_map.tif\"\n",
    "# spa_model.options = 2\n",
    "#\n",
    "# spa_model.__dict__"
   ]
  },
  {
   "cell_type": "code",
   "execution_count": null,
   "id": "loaded-territory",
   "metadata": {},
   "outputs": [],
   "source": [
    "spa_convert"
   ]
  },
  {
   "cell_type": "code",
   "execution_count": null,
   "id": "governmental-laugh",
   "metadata": {},
   "outputs": [],
   "source": [
    "spa_process"
   ]
  },
  {
   "cell_type": "code",
   "execution_count": null,
   "id": "revolutionary-antique",
   "metadata": {},
   "outputs": [],
   "source": []
  }
 ],
 "metadata": {
  "kernelspec": {
   "display_name": " (venv) GWB Analysis",
   "language": "python",
   "name": "venv-gwb"
  },
  "language_info": {
   "codemirror_mode": {
    "name": "ipython",
    "version": 3
   },
   "file_extension": ".py",
   "mimetype": "text/x-python",
   "name": "python",
   "nbconvert_exporter": "python",
   "pygments_lexer": "ipython3",
   "version": "3.8.10"
  }
 },
 "nbformat": 4,
 "nbformat_minor": 5
}
