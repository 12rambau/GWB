{
 "cells": [
  {
   "cell_type": "code",
   "execution_count": 1,
   "id": "sensitive-physics",
   "metadata": {},
   "outputs": [
    {
     "data": {
      "application/vnd.jupyter.widget-view+json": {
       "model_id": "b62adbb5ef1147acafc92574887346a4",
       "version_major": 2,
       "version_minor": 0
      },
      "text/plain": [
       "HTML(value='\\n<style>\\n.leaflet-pane {\\n    z-index : 2 !important;\\n}\\n.leaflet-top, .leaflet-bottom {\\n    z…"
      ]
     },
     "metadata": {},
     "output_type": "display_data"
    },
    {
     "data": {
      "application/vnd.jupyter.widget-view+json": {
       "model_id": "75cc26b6aad1465ea05f456703c15789",
       "version_major": 2,
       "version_minor": 0
      },
      "text/plain": [
       "ResizeTrigger()"
      ]
     },
     "metadata": {},
     "output_type": "display_data"
    }
   ],
   "source": [
    "from sepal_ui import sepalwidgets as sw \n",
    "\n",
    "from component import io \n",
    "from component import tile\n",
    "from component.message import cm"
   ]
  },
  {
   "cell_type": "code",
   "execution_count": 2,
   "id": "aggressive-challenge",
   "metadata": {},
   "outputs": [],
   "source": [
    "fad_io = io.FadIo()"
   ]
  },
  {
   "cell_type": "code",
   "execution_count": 3,
   "id": "offshore-samuel",
   "metadata": {},
   "outputs": [],
   "source": [
    "fad_title = sw.Tile(fad_io.tile_id, cm.fad.title, [sw.Markdown(cm.fad.description)])"
   ]
  },
  {
   "cell_type": "code",
   "execution_count": 4,
   "id": "vanilla-behavior",
   "metadata": {},
   "outputs": [],
   "source": [
    "fad_convert = tile.FourBytes(fad_io)"
   ]
  },
  {
   "cell_type": "code",
   "execution_count": 5,
   "id": "substantial-rebound",
   "metadata": {},
   "outputs": [],
   "source": [
    "fad_process = tile.FadTile(fad_io)"
   ]
  },
  {
   "cell_type": "code",
   "execution_count": 6,
   "id": "brown-clothing",
   "metadata": {},
   "outputs": [
    {
     "data": {
      "application/vnd.jupyter.widget-view+json": {
       "model_id": "449b3c8e440b4584aa991be3ebb375a2",
       "version_major": 2,
       "version_minor": 0
      },
      "text/plain": [
       "Tile(align_center=True, children=[Card(children=[Html(children=['Fragmentation'], tag='h2'), Flex(children=[Ma…"
      ]
     },
     "metadata": {},
     "output_type": "display_data"
    }
   ],
   "source": [
    "fad_title"
   ]
  },
  {
   "cell_type": "code",
   "execution_count": 7,
   "id": "infinite-precipitation",
   "metadata": {},
   "outputs": [],
   "source": [
    "#from pathlib import Path\n",
    "#\n",
    "#acc_io.bin_map = Path('/home/prambaud/gwb_results/acc/example_bin_map.tif')\n",
    "#acc_io.connectivity = 8\n",
    "#acc_io.res =  25\n",
    "#acc_io.thresholds = '[200, 2000, 20000, 100000, 200000]'\n",
    "#acc_io.option = 'default'\n",
    "#acc_io.__dict__"
   ]
  },
  {
   "cell_type": "code",
   "execution_count": 8,
   "id": "ranging-therapy",
   "metadata": {},
   "outputs": [
    {
     "data": {
      "application/vnd.jupyter.widget-view+json": {
       "model_id": "c8fd527ea5db4d248aa9835d1182d282",
       "version_major": 2,
       "version_minor": 0
      },
      "text/plain": [
       "FourBytes(align_center=True, children=[Card(children=[Html(children=['Select map classes'], tag='h2'), Flex(ch…"
      ]
     },
     "metadata": {},
     "output_type": "display_data"
    }
   ],
   "source": [
    "fad_convert"
   ]
  },
  {
   "cell_type": "code",
   "execution_count": 9,
   "id": "chronic-floor",
   "metadata": {},
   "outputs": [
    {
     "data": {
      "application/vnd.jupyter.widget-view+json": {
       "model_id": "8f2378fe5c0f4653ba14793942ab6a82",
       "version_major": 2,
       "version_minor": 0
      },
      "text/plain": [
       "FadTile(align_center=True, children=[Card(children=[Html(children=['Run Process'], tag='h2'), Flex(children=[S…"
      ]
     },
     "metadata": {},
     "output_type": "display_data"
    }
   ],
   "source": [
    "fad_process"
   ]
  },
  {
   "cell_type": "code",
   "execution_count": null,
   "id": "copyrighted-characteristic",
   "metadata": {},
   "outputs": [],
   "source": []
  }
 ],
 "metadata": {
  "kernelspec": {
   "display_name": "Python 3",
   "language": "python",
   "name": "python3"
  },
  "language_info": {
   "codemirror_mode": {
    "name": "ipython",
    "version": 3
   },
   "file_extension": ".py",
   "mimetype": "text/x-python",
   "name": "python",
   "nbconvert_exporter": "python",
   "pygments_lexer": "ipython3",
   "version": "3.6.9"
  }
 },
 "nbformat": 4,
 "nbformat_minor": 5
}
