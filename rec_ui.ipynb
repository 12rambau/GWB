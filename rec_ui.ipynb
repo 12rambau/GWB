{
 "cells": [
  {
   "cell_type": "code",
   "execution_count": null,
   "id": "muslim-dining",
   "metadata": {},
   "outputs": [],
   "source": [
    "from sepal_ui import sepalwidgets as sw \n",
    "\n",
    "from component import model \n",
    "from component import tile\n",
    "from component.message import cm"
   ]
  },
  {
   "cell_type": "code",
   "execution_count": null,
   "id": "practical-muscle",
   "metadata": {},
   "outputs": [],
   "source": [
    "rec_model = model.RecModel()"
   ]
  },
  {
   "cell_type": "code",
   "execution_count": null,
   "id": "statutory-alignment",
   "metadata": {},
   "outputs": [],
   "source": [
    "rec_title = sw.Tile(rec_model.tile_id, cm.rec.title, [sw.Markdown(cm.rec.description)])"
   ]
  },
  {
   "cell_type": "code",
   "execution_count": null,
   "id": "extensive-story",
   "metadata": {},
   "outputs": [],
   "source": [
    "rec_convert = tile.ConvertByte(rec_model, 0)"
   ]
  },
  {
   "cell_type": "code",
   "execution_count": null,
   "id": "shared-clear",
   "metadata": {},
   "outputs": [],
   "source": [
    "rec_process = tile.RecTile(rec_model, rec_convert)"
   ]
  },
  {
   "cell_type": "code",
   "execution_count": null,
   "id": "chemical-anchor",
   "metadata": {},
   "outputs": [],
   "source": [
    "rec_title"
   ]
  },
  {
   "cell_type": "code",
   "execution_count": null,
   "id": "plain-sullivan",
   "metadata": {},
   "outputs": [],
   "source": [
    "#from pathlib import Path\n",
    "#\n",
    "#rec_io.bin_map = Path('/home/prambaud/gwb_results/rec/example_bin_map.tif')\n",
    "#\n",
    "#rec_io.__dict__"
   ]
  },
  {
   "cell_type": "code",
   "execution_count": null,
   "id": "loving-allah",
   "metadata": {},
   "outputs": [],
   "source": [
    "rec_convert"
   ]
  },
  {
   "cell_type": "code",
   "execution_count": null,
   "id": "athletic-article",
   "metadata": {},
   "outputs": [],
   "source": [
    "rec_process"
   ]
  },
  {
   "cell_type": "code",
   "execution_count": null,
   "id": "hispanic-fight",
   "metadata": {},
   "outputs": [],
   "source": [
    "rec_io.update_params_list()\n",
    "rec_io.__dict__"
   ]
  },
  {
   "cell_type": "code",
   "execution_count": null,
   "id": "written-table",
   "metadata": {},
   "outputs": [],
   "source": []
  }
 ],
 "metadata": {
  "kernelspec": {
   "display_name": "Python 3",
   "language": "python",
   "name": "python3"
  },
  "language_info": {
   "codemirror_mode": {
    "name": "ipython",
    "version": 3
   },
   "file_extension": ".py",
   "mimetype": "text/x-python",
   "name": "python",
   "nbconvert_exporter": "python",
   "pygments_lexer": "ipython3",
   "version": "3.6.9"
  }
 },
 "nbformat": 4,
 "nbformat_minor": 5
}
