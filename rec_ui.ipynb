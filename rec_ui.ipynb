{
 "cells": [
  {
   "cell_type": "code",
   "execution_count": null,
   "id": "chemical-simple",
   "metadata": {},
   "outputs": [],
   "source": [
    "from sepal_ui import sepalwidgets as sw \n",
    "\n",
    "from component import io \n",
    "from component import tile\n",
    "from component.message import cm"
   ]
  },
  {
   "cell_type": "code",
   "execution_count": null,
   "id": "boolean-fruit",
   "metadata": {},
   "outputs": [],
   "source": [
    "rec_io = io.RecIo()"
   ]
  },
  {
   "cell_type": "code",
   "execution_count": null,
   "id": "joined-reynolds",
   "metadata": {},
   "outputs": [],
   "source": [
    "rec_title = sw.Tile(rec_io.tile_id, cm.rec.title, [sw.Markdown(cm.rec.description)])"
   ]
  },
  {
   "cell_type": "code",
   "execution_count": null,
   "id": "italian-sullivan",
   "metadata": {},
   "outputs": [],
   "source": [
    "rec_convert = tile.ZeroBytes(rec_io)"
   ]
  },
  {
   "cell_type": "code",
   "execution_count": null,
   "id": "superb-acrylic",
   "metadata": {},
   "outputs": [],
   "source": [
    "rec_process = tile.RecTile(rec_io, rec_convert)"
   ]
  },
  {
   "cell_type": "code",
   "execution_count": null,
   "id": "duplicate-mount",
   "metadata": {},
   "outputs": [],
   "source": [
    "rec_title"
   ]
  },
  {
   "cell_type": "code",
   "execution_count": null,
   "id": "conditional-rebel",
   "metadata": {},
   "outputs": [],
   "source": [
    "from pathlib import Path\n",
    "\n",
    "rec_io.bin_map = Path('/home/prambaud/gwb_results/rec/example_bin_map.tif')\n",
    "\n",
    "rec_io.__dict__"
   ]
  },
  {
   "cell_type": "code",
   "execution_count": null,
   "id": "congressional-miami",
   "metadata": {},
   "outputs": [],
   "source": [
    "rec_convert"
   ]
  },
  {
   "cell_type": "code",
   "execution_count": null,
   "id": "incorporate-sarah",
   "metadata": {},
   "outputs": [],
   "source": [
    "rec_process"
   ]
  },
  {
   "cell_type": "code",
   "execution_count": null,
   "id": "coordinated-shell",
   "metadata": {},
   "outputs": [],
   "source": [
    "rec_io.update_params_list()\n",
    "rec_io.__dict__"
   ]
  },
  {
   "cell_type": "code",
   "execution_count": null,
   "id": "warming-banana",
   "metadata": {},
   "outputs": [],
   "source": []
  }
 ],
 "metadata": {
  "kernelspec": {
   "display_name": "Python 3",
   "language": "python",
   "name": "python3"
  },
  "language_info": {
   "codemirror_mode": {
    "name": "ipython",
    "version": 3
   },
   "file_extension": ".py",
   "mimetype": "text/x-python",
   "name": "python",
   "nbconvert_exporter": "python",
   "pygments_lexer": "ipython3",
   "version": "3.6.9"
  }
 },
 "nbformat": 4,
 "nbformat_minor": 5
}
