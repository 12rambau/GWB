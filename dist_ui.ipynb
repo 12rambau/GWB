{
 "cells": [
  {
   "cell_type": "code",
   "execution_count": null,
   "id": "parental-librarian",
   "metadata": {},
   "outputs": [],
   "source": [
    "from sepal_ui import sepalwidgets as sw \n",
    "\n",
    "from component import model \n",
    "from component import tile\n",
    "from component.message import cm"
   ]
  },
  {
   "cell_type": "code",
   "execution_count": null,
   "id": "generous-peeing",
   "metadata": {},
   "outputs": [],
   "source": [
    "dist_model = model.DistModel()"
   ]
  },
  {
   "cell_type": "code",
   "execution_count": null,
   "id": "computational-fight",
   "metadata": {},
   "outputs": [],
   "source": [
    "dist_title = sw.Tile(dist_model.tile_id, cm.dist.title, [sw.Markdown(cm.dist.description)])"
   ]
  },
  {
   "cell_type": "code",
   "execution_count": null,
   "id": "sixth-strength",
   "metadata": {},
   "outputs": [],
   "source": [
    "dist_convert = tile.ConvertByte(dist_model, 2)"
   ]
  },
  {
   "cell_type": "code",
   "execution_count": null,
   "id": "fossil-endorsement",
   "metadata": {},
   "outputs": [],
   "source": [
    "dist_process = tile.DistTile(dist_model)"
   ]
  },
  {
   "cell_type": "code",
   "execution_count": null,
   "id": "historical-quality",
   "metadata": {},
   "outputs": [],
   "source": [
    "dist_title"
   ]
  },
  {
   "cell_type": "code",
   "execution_count": null,
   "id": "brilliant-casting",
   "metadata": {},
   "outputs": [],
   "source": [
    "#from pathlib import Path\n",
    "#\n",
    "#dist_io.bin_map = Path('/home/prambaud/gwb_results/dist/example_bin_map.tif')\n",
    "#dist_io.connectivity = 8\n",
    "#dist_io.options = 1\n",
    "#dist_io.__dict__"
   ]
  },
  {
   "cell_type": "code",
   "execution_count": null,
   "id": "western-providence",
   "metadata": {},
   "outputs": [],
   "source": [
    "dist_convert"
   ]
  },
  {
   "cell_type": "code",
   "execution_count": null,
   "id": "continent-scientist",
   "metadata": {},
   "outputs": [],
   "source": [
    "dist_process"
   ]
  }
 ],
 "metadata": {
  "kernelspec": {
   "display_name": "Python 3",
   "language": "python",
   "name": "python3"
  },
  "language_info": {
   "codemirror_mode": {
    "name": "ipython",
    "version": 3
   },
   "file_extension": ".py",
   "mimetype": "text/x-python",
   "name": "python",
   "nbconvert_exporter": "python",
   "pygments_lexer": "ipython3",
   "version": "3.6.9"
  }
 },
 "nbformat": 4,
 "nbformat_minor": 5
}
