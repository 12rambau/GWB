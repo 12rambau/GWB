{
 "cells": [
  {
   "cell_type": "code",
   "execution_count": null,
   "id": "digital-demand",
   "metadata": {},
   "outputs": [],
   "source": [
    "from sepal_ui import sepalwidgets as sw \n",
    "\n",
    "from component import io \n",
    "from component import tile\n",
    "from component.message import cm"
   ]
  },
  {
   "cell_type": "code",
   "execution_count": null,
   "id": "initial-planner",
   "metadata": {},
   "outputs": [],
   "source": [
    "dist_io = io.DistIo()"
   ]
  },
  {
   "cell_type": "code",
   "execution_count": null,
   "id": "concrete-brighton",
   "metadata": {},
   "outputs": [],
   "source": [
    "dist_title = sw.Tile(dist_io.tile_id, cm.dist.title, [sw.Markdown(cm.dist.description)])"
   ]
  },
  {
   "cell_type": "code",
   "execution_count": null,
   "id": "tired-fellow",
   "metadata": {},
   "outputs": [],
   "source": [
    "dist_convert = tile.TwoBytes(dist_io)"
   ]
  },
  {
   "cell_type": "code",
   "execution_count": null,
   "id": "impossible-burner",
   "metadata": {},
   "outputs": [],
   "source": [
    "dist_process = tile.dist_process(dist_io)"
   ]
  },
  {
   "cell_type": "code",
   "execution_count": null,
   "id": "controversial-confirmation",
   "metadata": {},
   "outputs": [],
   "source": [
    "dist_title"
   ]
  },
  {
   "cell_type": "code",
   "execution_count": null,
   "id": "serious-league",
   "metadata": {},
   "outputs": [],
   "source": [
    "#from pathlib import Path\n",
    "#\n",
    "#dist_io.bin_map = Path('/home/prambaud/gwb_results/dist/example_bin_map.tif')\n",
    "#dist_io.connectivity = 8\n",
    "#dist_io.options = 1\n",
    "#dist_io.__dict__"
   ]
  },
  {
   "cell_type": "code",
   "execution_count": null,
   "id": "vertical-truth",
   "metadata": {},
   "outputs": [],
   "source": [
    "dist_convert"
   ]
  },
  {
   "cell_type": "code",
   "execution_count": null,
   "id": "following-mailman",
   "metadata": {},
   "outputs": [],
   "source": [
    "dist_process"
   ]
  }
 ],
 "metadata": {
  "kernelspec": {
   "display_name": "Python 3",
   "language": "python",
   "name": "python3"
  },
  "language_info": {
   "codemirror_mode": {
    "name": "ipython",
    "version": 3
   },
   "file_extension": ".py",
   "mimetype": "text/x-python",
   "name": "python",
   "nbconvert_exporter": "python",
   "pygments_lexer": "ipython3",
   "version": "3.6.9"
  }
 },
 "nbformat": 4,
 "nbformat_minor": 5
}
