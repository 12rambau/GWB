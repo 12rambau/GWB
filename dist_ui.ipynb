{
 "cells": [
  {
   "cell_type": "code",
   "execution_count": null,
   "id": "parental-librarian",
   "metadata": {},
   "outputs": [],
   "source": [
    "from sepal_ui import sepalwidgets as sw\n",
    "\n",
    "from component import model\n",
    "from component import tile\n",
    "from component.message import cm"
   ]
  },
  {
   "cell_type": "code",
   "execution_count": null,
   "id": "generous-peeing",
   "metadata": {},
   "outputs": [],
   "source": [
    "dist_model = model.DistModel()"
   ]
  },
  {
   "cell_type": "code",
   "execution_count": null,
   "id": "computational-fight",
   "metadata": {},
   "outputs": [],
   "source": [
    "dist_title = sw.Tile(\n",
    "    dist_model.tile_id, cm.dist.title, [sw.Markdown(cm.dist.description)]\n",
    ")"
   ]
  },
  {
   "cell_type": "code",
   "execution_count": null,
   "id": "sixth-strength",
   "metadata": {},
   "outputs": [],
   "source": [
    "dist_convert = tile.ConvertByte(dist_model, 2)"
   ]
  },
  {
   "cell_type": "code",
   "execution_count": null,
   "id": "fossil-endorsement",
   "metadata": {},
   "outputs": [],
   "source": [
    "dist_process = tile.DistTile(dist_model)"
   ]
  },
  {
   "cell_type": "code",
   "execution_count": null,
   "id": "historical-quality",
   "metadata": {},
   "outputs": [],
   "source": [
    "dist_title"
   ]
  },
  {
   "cell_type": "code",
   "execution_count": null,
   "id": "brilliant-casting",
   "metadata": {},
   "outputs": [],
   "source": [
    "#from pathlib import Path\n",
    "#\n",
    "#dist_model.bin_map = Path('/home/prambaud/module_results/gwb/dist/example_bin_map.tif')\n",
    "#dist_model.connectivity = 8\n",
    "#dist_model.options = 1\n",
    "#dist_model.__dict__"
   ]
  },
  {
   "cell_type": "code",
   "execution_count": null,
   "id": "western-providence",
   "metadata": {},
   "outputs": [],
   "source": [
    "dist_convert"
   ]
  },
  {
   "cell_type": "code",
   "execution_count": null,
   "id": "continent-scientist",
   "metadata": {},
   "outputs": [],
   "source": [
    "dist_process"
   ]
  },
  {
   "cell_type": "code",
   "execution_count": null,
   "id": "4a50f2e7-a4ff-4cdc-b6ac-e49cc2ccc5c5",
   "metadata": {},
   "outputs": [],
   "source": []
  }
 ],
 "metadata": {
  "kernelspec": {
   "display_name": " (venv) GWB Analysis",
   "language": "python",
   "name": "venv-gwb"
  },
  "language_info": {
   "codemirror_mode": {
    "name": "ipython",
    "version": 3
   },
   "file_extension": ".py",
   "mimetype": "text/x-python",
   "name": "python",
   "nbconvert_exporter": "python",
   "pygments_lexer": "ipython3",
   "version": "3.8.10"
  }
 },
 "nbformat": 4,
 "nbformat_minor": 5
}
