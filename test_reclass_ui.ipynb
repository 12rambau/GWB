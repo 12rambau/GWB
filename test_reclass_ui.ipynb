{
 "cells": [
  {
   "cell_type": "code",
   "execution_count": null,
   "id": "933e0ff1-4715-4072-a7a8-f1503aab8e35",
   "metadata": {},
   "outputs": [],
   "source": [
    "from component.tile.reclassify import *\n",
    "from sepal_ui import sepalwidgets as sw"
   ]
  },
  {
   "cell_type": "code",
   "execution_count": null,
   "id": "bcd53dad-f58e-427f-bdbd-449eb0122a45",
   "metadata": {},
   "outputs": [],
   "source": [
    "# reclassify_title = sw.Tile('reclassify', cm.reclassify.title, [sw.Markdown(cm.reclassify.description)])"
   ]
  },
  {
   "cell_type": "code",
   "execution_count": null,
   "id": "32aff8f4-28b7-4ded-92c9-d6d9e2bf684a",
   "metadata": {},
   "outputs": [],
   "source": [
    "reclass_ui = ReclassifyUI()"
   ]
  },
  {
   "cell_type": "code",
   "execution_count": null,
   "id": "6d9d0f15-d3d9-4369-8679-8aea63c2a282",
   "metadata": {},
   "outputs": [],
   "source": [
    "reclass_ui"
   ]
  }
 ],
 "metadata": {
  "kernelspec": {
   "display_name": "Python 3",
   "language": "python",
   "name": "python3"
  },
  "language_info": {
   "codemirror_mode": {
    "name": "ipython",
    "version": 3
   },
   "file_extension": ".py",
   "mimetype": "text/x-python",
   "name": "python",
   "nbconvert_exporter": "python",
   "pygments_lexer": "ipython3",
   "version": "3.8.10"
  }
 },
 "nbformat": 4,
 "nbformat_minor": 5
}
