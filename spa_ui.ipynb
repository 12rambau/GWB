{
 "cells": [
  {
   "cell_type": "code",
   "execution_count": null,
   "id": "welsh-hurricane",
   "metadata": {},
   "outputs": [],
   "source": [
    "from sepal_ui import sepalwidgets as sw \n",
    "\n",
    "from component import io \n",
    "from component import tile\n",
    "from component.message import cm"
   ]
  },
  {
   "cell_type": "code",
   "execution_count": null,
   "id": "still-accountability",
   "metadata": {},
   "outputs": [],
   "source": [
    "spa_io = io.SpaIo()"
   ]
  },
  {
   "cell_type": "code",
   "execution_count": null,
   "id": "widespread-maldives",
   "metadata": {},
   "outputs": [],
   "source": [
    "spa_title = sw.Tile(spa_io.tile_id, cm.spa.title, [sw.Markdown(cm.spa.description)])"
   ]
  },
  {
   "cell_type": "code",
   "execution_count": null,
   "id": "iraqi-grocery",
   "metadata": {},
   "outputs": [],
   "source": [
    "spa_convert = tile.ConvertByte(spa_io, 2)"
   ]
  },
  {
   "cell_type": "code",
   "execution_count": null,
   "id": "charming-latitude",
   "metadata": {},
   "outputs": [],
   "source": [
    "spa_process = tile.SpaTile(spa_io)"
   ]
  },
  {
   "cell_type": "code",
   "execution_count": null,
   "id": "immune-mongolia",
   "metadata": {},
   "outputs": [],
   "source": [
    "spa_title"
   ]
  },
  {
   "cell_type": "code",
   "execution_count": null,
   "id": "solar-miniature",
   "metadata": {},
   "outputs": [],
   "source": [
    "#from pathlib import Path\n",
    "#\n",
    "#spa_io.bin_map = Path('/home/prambaud/gwb_results/spa/example_bin_map.tif')\n",
    "#spa_io.options = 2\n",
    "#\n",
    "#spa_io.__dict__"
   ]
  },
  {
   "cell_type": "code",
   "execution_count": null,
   "id": "brilliant-ground",
   "metadata": {},
   "outputs": [],
   "source": [
    "spa_convert"
   ]
  },
  {
   "cell_type": "code",
   "execution_count": null,
   "id": "recorded-february",
   "metadata": {},
   "outputs": [],
   "source": [
    "spa_process"
   ]
  },
  {
   "cell_type": "code",
   "execution_count": null,
   "id": "thousand-grammar",
   "metadata": {},
   "outputs": [],
   "source": []
  }
 ],
 "metadata": {
  "kernelspec": {
   "display_name": "Python 3",
   "language": "python",
   "name": "python3"
  },
  "language_info": {
   "codemirror_mode": {
    "name": "ipython",
    "version": 3
   },
   "file_extension": ".py",
   "mimetype": "text/x-python",
   "name": "python",
   "nbconvert_exporter": "python",
   "pygments_lexer": "ipython3",
   "version": "3.6.9"
  }
 },
 "nbformat": 4,
 "nbformat_minor": 5
}
