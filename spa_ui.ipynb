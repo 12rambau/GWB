{
 "cells": [
  {
   "cell_type": "code",
   "execution_count": 1,
   "id": "august-chorus",
   "metadata": {},
   "outputs": [
    {
     "data": {
      "application/vnd.jupyter.widget-view+json": {
       "model_id": "87e74ceb01d842e58468f585d5c8fd81",
       "version_major": 2,
       "version_minor": 0
      },
      "text/plain": [
       "HTML(value='\\n<style>\\n.leaflet-pane {\\n    z-index : 2 !important;\\n}\\n.leaflet-top, .leaflet-bottom {\\n    z…"
      ]
     },
     "metadata": {},
     "output_type": "display_data"
    },
    {
     "data": {
      "application/vnd.jupyter.widget-view+json": {
       "model_id": "78bd7572e22e408dbdab35c3f0ff8c90",
       "version_major": 2,
       "version_minor": 0
      },
      "text/plain": [
       "ResizeTrigger()"
      ]
     },
     "metadata": {},
     "output_type": "display_data"
    }
   ],
   "source": [
    "from sepal_ui import sepalwidgets as sw \n",
    "\n",
    "from component import io \n",
    "from component import tile\n",
    "from component.message import cm"
   ]
  },
  {
   "cell_type": "code",
   "execution_count": 2,
   "id": "saved-yemen",
   "metadata": {},
   "outputs": [],
   "source": [
    "spa_io = io.SpaIo()"
   ]
  },
  {
   "cell_type": "code",
   "execution_count": 3,
   "id": "pacific-laugh",
   "metadata": {},
   "outputs": [],
   "source": [
    "spa_title = sw.Tile(spa_io.tile_id, cm.spa.title, [sw.Markdown(cm.spa.description)])"
   ]
  },
  {
   "cell_type": "code",
   "execution_count": 4,
   "id": "regular-ridge",
   "metadata": {},
   "outputs": [],
   "source": [
    "spa_convert = tile.TwoBytes(spa_io)"
   ]
  },
  {
   "cell_type": "code",
   "execution_count": 5,
   "id": "correct-garden",
   "metadata": {},
   "outputs": [],
   "source": [
    "spa_process = tile.SpaTile(spa_io)"
   ]
  },
  {
   "cell_type": "code",
   "execution_count": 6,
   "id": "particular-coalition",
   "metadata": {},
   "outputs": [
    {
     "data": {
      "application/vnd.jupyter.widget-view+json": {
       "model_id": "543a97164b204246817703ca59494ec5",
       "version_major": 2,
       "version_minor": 0
      },
      "text/plain": [
       "Tile(align_center=True, children=[Card(children=[Html(children=['Simplified Pattern Analysis'], tag='h2'), Fle…"
      ]
     },
     "metadata": {},
     "output_type": "display_data"
    }
   ],
   "source": [
    "spa_title"
   ]
  },
  {
   "cell_type": "code",
   "execution_count": 7,
   "id": "advisory-weather",
   "metadata": {},
   "outputs": [],
   "source": [
    "#from pathlib import Path\n",
    "#\n",
    "#spa_io.bin_map = Path('/home/prambaud/gwb_results/spa/example_bin_map.tif')\n",
    "#spa_io.options = 2\n",
    "#\n",
    "#spa_io.__dict__"
   ]
  },
  {
   "cell_type": "code",
   "execution_count": 8,
   "id": "undefined-finnish",
   "metadata": {},
   "outputs": [
    {
     "data": {
      "application/vnd.jupyter.widget-view+json": {
       "model_id": "07e7bad5aca04f349a35f037a3214ce8",
       "version_major": 2,
       "version_minor": 0
      },
      "text/plain": [
       "TwoBytes(align_center=True, children=[Card(children=[Html(children=['Select map classes'], tag='h2'), Flex(chi…"
      ]
     },
     "metadata": {},
     "output_type": "display_data"
    }
   ],
   "source": [
    "spa_convert"
   ]
  },
  {
   "cell_type": "code",
   "execution_count": 9,
   "id": "cubic-morris",
   "metadata": {},
   "outputs": [
    {
     "data": {
      "application/vnd.jupyter.widget-view+json": {
       "model_id": "0916e46cb2794ef084009490f95a8c75",
       "version_major": 2,
       "version_minor": 0
      },
      "text/plain": [
       "SpaTile(align_center=True, children=[Card(children=[Html(children=['Run Process'], tag='h2'), Flex(children=[S…"
      ]
     },
     "metadata": {},
     "output_type": "display_data"
    }
   ],
   "source": [
    "spa_process"
   ]
  },
  {
   "cell_type": "code",
   "execution_count": null,
   "id": "surgical-sweden",
   "metadata": {},
   "outputs": [],
   "source": []
  }
 ],
 "metadata": {
  "kernelspec": {
   "display_name": "Python 3",
   "language": "python",
   "name": "python3"
  },
  "language_info": {
   "codemirror_mode": {
    "name": "ipython",
    "version": 3
   },
   "file_extension": ".py",
   "mimetype": "text/x-python",
   "name": "python",
   "nbconvert_exporter": "python",
   "pygments_lexer": "ipython3",
   "version": "3.6.9"
  }
 },
 "nbformat": 4,
 "nbformat_minor": 5
}
