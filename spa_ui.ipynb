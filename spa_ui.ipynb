{
 "cells": [
  {
   "cell_type": "code",
   "execution_count": 1,
   "id": "sharing-drain",
   "metadata": {},
   "outputs": [
    {
     "data": {
      "application/vnd.jupyter.widget-view+json": {
       "model_id": "405ccf05fedb4bd9903eb4fd4010c9bd",
       "version_major": 2,
       "version_minor": 0
      },
      "text/plain": [
       "Styles()"
      ]
     },
     "metadata": {},
     "output_type": "display_data"
    },
    {
     "data": {
      "application/vnd.jupyter.widget-view+json": {
       "model_id": "b6342f24808842c8bad6a3acf2e70f69",
       "version_major": 2,
       "version_minor": 0
      },
      "text/plain": [
       "ResizeTrigger()"
      ]
     },
     "metadata": {},
     "output_type": "display_data"
    }
   ],
   "source": [
    "from sepal_ui import sepalwidgets as sw \n",
    "\n",
    "from component import model \n",
    "from component import tile\n",
    "from component.message import cm"
   ]
  },
  {
   "cell_type": "code",
   "execution_count": 2,
   "id": "parental-chance",
   "metadata": {},
   "outputs": [],
   "source": [
    "spa_model = model.SpaModel()"
   ]
  },
  {
   "cell_type": "code",
   "execution_count": 3,
   "id": "demographic-elevation",
   "metadata": {},
   "outputs": [],
   "source": [
    "spa_title = sw.Tile(spa_model.tile_id, cm.spa.title, [sw.Markdown(cm.spa.description)])"
   ]
  },
  {
   "cell_type": "code",
   "execution_count": 4,
   "id": "adjacent-centre",
   "metadata": {},
   "outputs": [],
   "source": [
    "spa_convert = tile.ConvertByte(spa_model, 2)"
   ]
  },
  {
   "cell_type": "code",
   "execution_count": 5,
   "id": "greatest-iceland",
   "metadata": {},
   "outputs": [],
   "source": [
    "spa_process = tile.SpaTile(spa_model)"
   ]
  },
  {
   "cell_type": "code",
   "execution_count": 6,
   "id": "quantitative-contamination",
   "metadata": {},
   "outputs": [
    {
     "data": {
      "application/vnd.jupyter.widget-view+json": {
       "model_id": "a7432a64ca034dd1a90f5dc10e6ee3fd",
       "version_major": 2,
       "version_minor": 0
      },
      "text/plain": [
       "Tile(align_center=True, children=[Card(children=[Html(children=['SPA: Simplified Pattern Analysis'], tag='h2')…"
      ]
     },
     "metadata": {},
     "output_type": "display_data"
    }
   ],
   "source": [
    "spa_title"
   ]
  },
  {
   "cell_type": "code",
   "execution_count": 7,
   "id": "opponent-aviation",
   "metadata": {},
   "outputs": [],
   "source": [
    "#from pathlib import Path\n",
    "#\n",
    "#spa_io.bin_map = Path('/home/prambaud/gwb_results/spa/example_bin_map.tif')\n",
    "#spa_io.options = 2\n",
    "#\n",
    "#spa_io.__dict__"
   ]
  },
  {
   "cell_type": "code",
   "execution_count": 8,
   "id": "loaded-territory",
   "metadata": {},
   "outputs": [
    {
     "data": {
      "application/vnd.jupyter.widget-view+json": {
       "model_id": "eb8b1d0d3b8b4e9eb7d0c35c56774b85",
       "version_major": 2,
       "version_minor": 0
      },
      "text/plain": [
       "ConvertByte(align_center=True, children=[Card(children=[Html(children=['Select input map classes'], tag='h2'),…"
      ]
     },
     "metadata": {},
     "output_type": "display_data"
    }
   ],
   "source": [
    "spa_convert"
   ]
  },
  {
   "cell_type": "code",
   "execution_count": 9,
   "id": "governmental-laugh",
   "metadata": {},
   "outputs": [
    {
     "data": {
      "application/vnd.jupyter.widget-view+json": {
       "model_id": "44afbdae281e4e36be402a0a5bd440b2",
       "version_major": 2,
       "version_minor": 0
      },
      "text/plain": [
       "SpaTile(align_center=True, children=[Card(children=[Html(children=['Run Process'], tag='h2'), Flex(children=[S…"
      ]
     },
     "metadata": {},
     "output_type": "display_data"
    }
   ],
   "source": [
    "spa_process"
   ]
  },
  {
   "cell_type": "code",
   "execution_count": null,
   "id": "revolutionary-antique",
   "metadata": {},
   "outputs": [],
   "source": []
  }
 ],
 "metadata": {
  "kernelspec": {
   "display_name": "Python 3",
   "language": "python",
   "name": "python3"
  },
  "language_info": {
   "codemirror_mode": {
    "name": "ipython",
    "version": 3
   },
   "file_extension": ".py",
   "mimetype": "text/x-python",
   "name": "python",
   "nbconvert_exporter": "python",
   "pygments_lexer": "ipython3",
   "version": "3.6.9"
  }
 },
 "nbformat": 4,
 "nbformat_minor": 5
}
