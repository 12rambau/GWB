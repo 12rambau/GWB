{
 "cells": [
  {
   "cell_type": "code",
   "execution_count": null,
   "id": "awful-vegetarian",
   "metadata": {},
   "outputs": [],
   "source": [
    "from sepal_ui import sepalwidgets as sw\n",
    "\n",
    "from component import model\n",
    "from component import tile\n",
    "from component.message import cm"
   ]
  },
  {
   "cell_type": "code",
   "execution_count": null,
   "id": "gentle-microwave",
   "metadata": {},
   "outputs": [],
   "source": [
    "fad_model = model.FadModel()"
   ]
  },
  {
   "cell_type": "code",
   "execution_count": null,
   "id": "therapeutic-profession",
   "metadata": {},
   "outputs": [],
   "source": [
    "fad_title = sw.Tile(fad_model.tile_id, cm.fad.title, [sw.Markdown(cm.fad.description)])"
   ]
  },
  {
   "cell_type": "code",
   "execution_count": null,
   "id": "moral-quantity",
   "metadata": {},
   "outputs": [],
   "source": [
    "fad_convert = tile.ConvertByte(fad_model, 4)"
   ]
  },
  {
   "cell_type": "code",
   "execution_count": null,
   "id": "demanding-scene",
   "metadata": {},
   "outputs": [],
   "source": [
    "fad_process = tile.FadTile(fad_model)"
   ]
  },
  {
   "cell_type": "code",
   "execution_count": null,
   "id": "funded-oxford",
   "metadata": {},
   "outputs": [],
   "source": [
    "fad_title"
   ]
  },
  {
   "cell_type": "code",
   "execution_count": null,
   "id": "velvet-manhattan",
   "metadata": {},
   "outputs": [],
   "source": [
    "# from componet import parameter as cp\n",
    "#\n",
    "# fad_model.bin_map = cp.get_result_dir(\"fad\")/\"example_bin_map.tif\"\n",
    "# fad_model.connectivity = 8\n",
    "# fad_model.res =  25\n",
    "# fad_model.thresholds = '[200, 2000, 20000, 100000, 200000]'\n",
    "# fad_model.option = 'default'\n",
    "#\n",
    "# fad_model.__dict__"
   ]
  },
  {
   "cell_type": "code",
   "execution_count": null,
   "id": "sensitive-jackson",
   "metadata": {},
   "outputs": [],
   "source": [
    "fad_convert"
   ]
  },
  {
   "cell_type": "code",
   "execution_count": null,
   "id": "valid-malta",
   "metadata": {},
   "outputs": [],
   "source": [
    "fad_process"
   ]
  },
  {
   "cell_type": "code",
   "execution_count": null,
   "id": "assisted-gnome",
   "metadata": {},
   "outputs": [],
   "source": []
  }
 ],
 "metadata": {
  "kernelspec": {
   "display_name": " (venv) GWB Analysis",
   "language": "python",
   "name": "venv-gwb"
  },
  "language_info": {
   "codemirror_mode": {
    "name": "ipython",
    "version": 3
   },
   "file_extension": ".py",
   "mimetype": "text/x-python",
   "name": "python",
   "nbconvert_exporter": "python",
   "pygments_lexer": "ipython3",
   "version": "3.8.10"
  }
 },
 "nbformat": 4,
 "nbformat_minor": 5
}
