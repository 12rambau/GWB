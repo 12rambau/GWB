{
 "cells": [
  {
   "cell_type": "code",
   "execution_count": 1,
   "id": "58bfe612",
   "metadata": {},
   "outputs": [
    {
     "data": {
      "application/vnd.jupyter.widget-view+json": {
       "model_id": "30019769b63345808a52157e5573c5c0",
       "version_major": 2,
       "version_minor": 0
      },
      "text/plain": [
       "Styles()"
      ]
     },
     "metadata": {},
     "output_type": "display_data"
    },
    {
     "data": {
      "application/vnd.jupyter.widget-view+json": {
       "model_id": "9f366cd7a8d144eea9b6e3b687e22c6b",
       "version_major": 2,
       "version_minor": 0
      },
      "text/plain": [
       "ResizeTrigger()"
      ]
     },
     "metadata": {},
     "output_type": "display_data"
    }
   ],
   "source": [
    "from sepal_ui import sepalwidgets as sw \n",
    "\n",
    "from component import io \n",
    "from component import tile\n",
    "from component.message import cm"
   ]
  },
  {
   "cell_type": "code",
   "execution_count": 2,
   "id": "eb4408e2",
   "metadata": {},
   "outputs": [],
   "source": [
    "mspa_io = io.MspaIo()"
   ]
  },
  {
   "cell_type": "code",
   "execution_count": 3,
   "id": "e3f96e39",
   "metadata": {},
   "outputs": [],
   "source": [
    "mspa_title = sw.Tile(mspa_io.tile_id, cm.mspa.title, [sw.Markdown(cm.mspa.description)])"
   ]
  },
  {
   "cell_type": "code",
   "execution_count": 4,
   "id": "9e74f257",
   "metadata": {},
   "outputs": [],
   "source": [
    "mspa_convert = tile.ConvertByte(mspa_io, 2)"
   ]
  },
  {
   "cell_type": "code",
   "execution_count": 5,
   "id": "f614cd75",
   "metadata": {},
   "outputs": [],
   "source": [
    "mspa_process = tile.MspaTile(mspa_io)"
   ]
  },
  {
   "cell_type": "code",
   "execution_count": 6,
   "id": "78dea7b2",
   "metadata": {},
   "outputs": [
    {
     "data": {
      "application/vnd.jupyter.widget-view+json": {
       "model_id": "6bbf5e7d94df4b09964735095d7967a2",
       "version_major": 2,
       "version_minor": 0
      },
      "text/plain": [
       "Tile(align_center=True, children=[Card(children=[Html(children=['MSPA: Morphological Spatial Pattern Analysis'…"
      ]
     },
     "metadata": {},
     "output_type": "display_data"
    }
   ],
   "source": [
    "mspa_title"
   ]
  },
  {
   "cell_type": "code",
   "execution_count": 7,
   "id": "ad9c4b73",
   "metadata": {},
   "outputs": [],
   "source": [
    "#from pathlib import Path\n",
    "#\n",
    "#mspa_io.bin_map = Path('/home/prambaud/gwb_results/mspa/example_bin_map.tif')\n",
    "#mspa_io.connectivity = 8\n",
    "#mspa_io.edge_width =  1\n",
    "#mspa_io.transition = 1\n",
    "#mspa_io.int_ext = 1\n",
    "#\n",
    "#mspa_io.update_params_list()\n",
    "#mspa_io.__dict__"
   ]
  },
  {
   "cell_type": "code",
   "execution_count": 8,
   "id": "4a502b6f",
   "metadata": {
    "tags": []
   },
   "outputs": [
    {
     "data": {
      "application/vnd.jupyter.widget-view+json": {
       "model_id": "1521176610f14bb7ace3b5ce4f3b8f41",
       "version_major": 2,
       "version_minor": 0
      },
      "text/plain": [
       "ConvertByte(align_center=True, children=[Card(children=[Html(children=['Select map classes'], tag='h2'), Flex(…"
      ]
     },
     "metadata": {},
     "output_type": "display_data"
    }
   ],
   "source": [
    "mspa_convert"
   ]
  },
  {
   "cell_type": "code",
   "execution_count": 9,
   "id": "f3b26650",
   "metadata": {},
   "outputs": [
    {
     "data": {
      "application/vnd.jupyter.widget-view+json": {
       "model_id": "5d277b67c65641c58cbd193bdfb3e4dc",
       "version_major": 2,
       "version_minor": 0
      },
      "text/plain": [
       "MspaTile(align_center=True, children=[Card(children=[Html(children=['Run Process'], tag='h2'), Flex(children=[…"
      ]
     },
     "metadata": {},
     "output_type": "display_data"
    }
   ],
   "source": [
    "mspa_process"
   ]
  }
 ],
 "metadata": {
  "kernelspec": {
   "display_name": "Python 3",
   "language": "python",
   "name": "python3"
  },
  "language_info": {
   "codemirror_mode": {
    "name": "ipython",
    "version": 3
   },
   "file_extension": ".py",
   "mimetype": "text/x-python",
   "name": "python",
   "nbconvert_exporter": "python",
   "pygments_lexer": "ipython3",
   "version": "3.6.9"
  }
 },
 "nbformat": 4,
 "nbformat_minor": 5
}
