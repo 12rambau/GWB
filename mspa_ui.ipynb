{
 "cells": [
  {
   "cell_type": "code",
   "execution_count": null,
   "id": "demanding-recognition",
   "metadata": {},
   "outputs": [],
   "source": [
    "from sepal_ui import sepalwidgets as sw \n",
    "\n",
    "from component import io \n",
    "from component import tile\n",
    "from component.message import cm"
   ]
  },
  {
   "cell_type": "code",
   "execution_count": null,
   "id": "ideal-netherlands",
   "metadata": {},
   "outputs": [],
   "source": [
    "mspa_io = io.MspaIo()"
   ]
  },
  {
   "cell_type": "code",
   "execution_count": null,
   "id": "essential-index",
   "metadata": {},
   "outputs": [],
   "source": [
    "mspa_title = sw.Tile(mspa_io.tile_id, cm.mspa.title, [sw.Markdown(cm.mspa.description)])"
   ]
  },
  {
   "cell_type": "code",
   "execution_count": null,
   "id": "secret-jewelry",
   "metadata": {},
   "outputs": [],
   "source": [
    "mspa_convert = tile.ConvertByte(mspa_io, 2)"
   ]
  },
  {
   "cell_type": "code",
   "execution_count": null,
   "id": "described-vancouver",
   "metadata": {},
   "outputs": [],
   "source": [
    "mspa_process = tile.MspaTile(mspa_io)"
   ]
  },
  {
   "cell_type": "code",
   "execution_count": null,
   "id": "handled-protein",
   "metadata": {},
   "outputs": [],
   "source": [
    "mspa_title"
   ]
  },
  {
   "cell_type": "code",
   "execution_count": null,
   "id": "suburban-glance",
   "metadata": {},
   "outputs": [],
   "source": [
    "#from pathlib import Path\n",
    "#\n",
    "#mspa_io.bin_map = Path('/home/prambaud/gwb_results/mspa/example_bin_map.tif')\n",
    "#mspa_io.connectivity = 8\n",
    "#mspa_io.edge_width =  1\n",
    "#mspa_io.transition = 1\n",
    "#mspa_io.int_ext = 1\n",
    "#\n",
    "#mspa_io.update_params_list()\n",
    "#mspa_io.__dict__"
   ]
  },
  {
   "cell_type": "code",
   "execution_count": null,
   "id": "peripheral-division",
   "metadata": {},
   "outputs": [],
   "source": [
    "mspa_convert"
   ]
  },
  {
   "cell_type": "code",
   "execution_count": null,
   "id": "coordinated-regular",
   "metadata": {},
   "outputs": [],
   "source": [
    "mspa_process"
   ]
  }
 ],
 "metadata": {
  "kernelspec": {
   "display_name": "Python 3",
   "language": "python",
   "name": "python3"
  },
  "language_info": {
   "codemirror_mode": {
    "name": "ipython",
    "version": 3
   },
   "file_extension": ".py",
   "mimetype": "text/x-python",
   "name": "python",
   "nbconvert_exporter": "python",
   "pygments_lexer": "ipython3",
   "version": "3.6.9"
  }
 },
 "nbformat": 4,
 "nbformat_minor": 5
}
