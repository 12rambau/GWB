{
 "cells": [
  {
   "cell_type": "code",
   "execution_count": null,
   "id": "optical-spirituality",
   "metadata": {},
   "outputs": [],
   "source": [
    "from sepal_ui import sepalwidgets as sw \n",
    "\n",
    "from component import io \n",
    "from component import tile\n",
    "from component.message import cm"
   ]
  },
  {
   "cell_type": "code",
   "execution_count": null,
   "id": "raised-pricing",
   "metadata": {},
   "outputs": [],
   "source": [
    "mspa_io = io.MspaIo()"
   ]
  },
  {
   "cell_type": "code",
   "execution_count": null,
   "id": "unnecessary-mount",
   "metadata": {},
   "outputs": [],
   "source": [
    "mspa_title = sw.Tile(mspa_io.tile_id, cm.mspa.title, [sw.Markdown(cm.mspa.description)])"
   ]
  },
  {
   "cell_type": "code",
   "execution_count": null,
   "id": "written-output",
   "metadata": {},
   "outputs": [],
   "source": [
    "mspa_convert = tile.TwoBytes(mspa_io)"
   ]
  },
  {
   "cell_type": "code",
   "execution_count": null,
   "id": "approved-mistress",
   "metadata": {},
   "outputs": [],
   "source": [
    "mspa_process = tile.MspaTile(mspa_io)"
   ]
  },
  {
   "cell_type": "code",
   "execution_count": null,
   "id": "nasty-monkey",
   "metadata": {},
   "outputs": [],
   "source": [
    "mspa_title"
   ]
  },
  {
   "cell_type": "code",
   "execution_count": null,
   "id": "special-wedding",
   "metadata": {},
   "outputs": [],
   "source": [
    "#from pathlib import Path\n",
    "#\n",
    "#mspa_io.bin_map = Path('/home/prambaud/gwb_results/mspa/example_bin_map.tif')\n",
    "#mspa_io.connectivity = 8\n",
    "#mspa_io.edge_width =  1\n",
    "#mspa_io.transition = 1\n",
    "#mspa_io.int_ext = 1\n",
    "#\n",
    "#mspa_io.update_params_list()\n",
    "#mspa_io.__dict__"
   ]
  },
  {
   "cell_type": "code",
   "execution_count": null,
   "id": "naval-proposal",
   "metadata": {},
   "outputs": [],
   "source": [
    "mspa_convert"
   ]
  },
  {
   "cell_type": "code",
   "execution_count": null,
   "id": "mobile-bouquet",
   "metadata": {},
   "outputs": [],
   "source": [
    "mspa_process"
   ]
  }
 ],
 "metadata": {
  "kernelspec": {
   "display_name": "Python 3",
   "language": "python",
   "name": "python3"
  },
  "language_info": {
   "codemirror_mode": {
    "name": "ipython",
    "version": 3
   },
   "file_extension": ".py",
   "mimetype": "text/x-python",
   "name": "python",
   "nbconvert_exporter": "python",
   "pygments_lexer": "ipython3",
   "version": "3.6.9"
  }
 },
 "nbformat": 4,
 "nbformat_minor": 5
}
