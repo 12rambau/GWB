{
 "cells": [
  {
   "cell_type": "code",
   "execution_count": null,
   "id": "03a767df",
   "metadata": {},
   "outputs": [],
   "source": [
    "from sepal_ui import sepalwidgets as sw\n",
    "\n",
    "from component import model\n",
    "from component import tile\n",
    "from component.message import cm"
   ]
  },
  {
   "cell_type": "code",
   "execution_count": null,
   "id": "00eda0a3",
   "metadata": {},
   "outputs": [],
   "source": [
    "mspa_model = model.MspaModel()"
   ]
  },
  {
   "cell_type": "code",
   "execution_count": null,
   "id": "71f845a9",
   "metadata": {},
   "outputs": [],
   "source": [
    "mspa_title = sw.Tile(\n",
    "    mspa_model.tile_id, cm.mspa.title, [sw.Markdown(cm.mspa.description)]\n",
    ")"
   ]
  },
  {
   "cell_type": "code",
   "execution_count": null,
   "id": "38d0ec43",
   "metadata": {},
   "outputs": [],
   "source": [
    "mspa_convert = tile.ConvertByte(mspa_model, 2)"
   ]
  },
  {
   "cell_type": "code",
   "execution_count": null,
   "id": "8155f7cb",
   "metadata": {},
   "outputs": [],
   "source": [
    "mspa_process = tile.MspaTile(mspa_model)"
   ]
  },
  {
   "cell_type": "code",
   "execution_count": null,
   "id": "fe81f437",
   "metadata": {},
   "outputs": [],
   "source": [
    "mspa_title"
   ]
  },
  {
   "cell_type": "code",
   "execution_count": null,
   "id": "f13953fc",
   "metadata": {},
   "outputs": [],
   "source": [
    "# from pathlib import Path\n",
    "#\n",
    "# mspa_io.bin_map = Path('/home/prambaud/gwb_results/mspa/example_bin_map.tif')\n",
    "# mspa_io.connectivity = 8\n",
    "# mspa_io.edge_width =  1\n",
    "# mspa_io.transition = 1\n",
    "# mspa_io.int_ext = 1\n",
    "#\n",
    "# mspa_io.update_params_list()\n",
    "# mspa_io.__dict__"
   ]
  },
  {
   "cell_type": "code",
   "execution_count": null,
   "id": "52f30280",
   "metadata": {
    "tags": []
   },
   "outputs": [],
   "source": [
    "mspa_convert"
   ]
  },
  {
   "cell_type": "code",
   "execution_count": null,
   "id": "410f6d08",
   "metadata": {},
   "outputs": [],
   "source": [
    "mspa_process"
   ]
  }
 ],
 "metadata": {
  "kernelspec": {
   "display_name": "Python 3",
   "language": "python",
   "name": "python3"
  },
  "language_info": {
   "codemirror_mode": {
    "name": "ipython",
    "version": 3
   },
   "file_extension": ".py",
   "mimetype": "text/x-python",
   "name": "python",
   "nbconvert_exporter": "python",
   "pygments_lexer": "ipython3",
   "version": "3.8.10"
  }
 },
 "nbformat": 4,
 "nbformat_minor": 5
}
