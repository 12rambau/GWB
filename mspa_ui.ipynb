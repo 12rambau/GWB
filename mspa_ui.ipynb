{
 "cells": [
  {
   "cell_type": "code",
   "execution_count": null,
   "id": "03a767df",
   "metadata": {},
   "outputs": [],
   "source": [
    "from sepal_ui import sepalwidgets as sw\n",
    "\n",
    "from component import model\n",
    "from component import tile\n",
    "from component.message import cm"
   ]
  },
  {
   "cell_type": "code",
   "execution_count": null,
   "id": "00eda0a3",
   "metadata": {},
   "outputs": [],
   "source": [
    "mspa_model = model.MspaModel()"
   ]
  },
  {
   "cell_type": "code",
   "execution_count": null,
   "id": "71f845a9",
   "metadata": {},
   "outputs": [],
   "source": [
    "mspa_title = sw.Tile(\n",
    "    mspa_model.tile_id, cm.mspa.title, [sw.Markdown(cm.mspa.description)]\n",
    ")"
   ]
  },
  {
   "cell_type": "code",
   "execution_count": null,
   "id": "38d0ec43",
   "metadata": {},
   "outputs": [],
   "source": [
    "mspa_convert = tile.ConvertByte(mspa_model, 2)"
   ]
  },
  {
   "cell_type": "code",
   "execution_count": null,
   "id": "8155f7cb",
   "metadata": {},
   "outputs": [],
   "source": [
    "mspa_process = tile.MspaTile(mspa_model)"
   ]
  },
  {
   "cell_type": "code",
   "execution_count": null,
   "id": "fe81f437",
   "metadata": {},
   "outputs": [],
   "source": [
    "mspa_title"
   ]
  },
  {
   "cell_type": "code",
   "execution_count": null,
   "id": "f13953fc",
   "metadata": {},
   "outputs": [],
   "source": [
    "# from component import parameter as cp\n",
    "#\n",
    "# mspa_model.bin_map = cp.get_result_dir(\"mspa\")/\"example_bin_map.tif\"\n",
    "# mspa_model.connectivity = 8\n",
    "# mspa_model.edge_width =  1\n",
    "# mspa_model.transition = 1\n",
    "# mspa_model.int_ext = 1\n",
    "# mspa_model.disk = 0\n",
    "# mspa_model.statistics = 0\n",
    "#\n",
    "# mspa_model.update_params_list()\n",
    "# mspa_model.__dict__"
   ]
  },
  {
   "cell_type": "code",
   "execution_count": null,
   "id": "52f30280",
   "metadata": {
    "tags": []
   },
   "outputs": [],
   "source": [
    "mspa_convert"
   ]
  },
  {
   "cell_type": "code",
   "execution_count": null,
   "id": "410f6d08",
   "metadata": {},
   "outputs": [],
   "source": [
    "mspa_process"
   ]
  },
  {
   "cell_type": "code",
   "execution_count": null,
   "id": "0ba97a80-d979-401b-8bca-af5910b90c56",
   "metadata": {},
   "outputs": [],
   "source": []
  }
 ],
 "metadata": {
  "kernelspec": {
   "display_name": " (venv) GWB Analysis",
   "language": "python",
   "name": "venv-gwb"
  },
  "language_info": {
   "codemirror_mode": {
    "name": "ipython",
    "version": 3
   },
   "file_extension": ".py",
   "mimetype": "text/x-python",
   "name": "python",
   "nbconvert_exporter": "python",
   "pygments_lexer": "ipython3",
   "version": "3.8.10"
  }
 },
 "nbformat": 4,
 "nbformat_minor": 5
}
